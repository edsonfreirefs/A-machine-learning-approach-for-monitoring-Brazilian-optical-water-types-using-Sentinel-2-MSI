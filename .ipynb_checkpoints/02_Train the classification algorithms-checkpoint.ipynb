{
 "cells": [
  {
   "cell_type": "markdown",
   "metadata": {
    "toc": true
   },
   "source": [
    "<h1>Table of Contents<span class=\"tocSkip\"></span></h1>\n",
    "<div class=\"toc\"><ul class=\"toc-item\"><li><span><a href=\"#1-Introduction\" data-toc-modified-id=\"1-Introduction-1\">1 Introduction</a></span></li><li><span><a href=\"#2-Data-access\" data-toc-modified-id=\"2-Data-access-2\">2 Data access</a></span></li><li><span><a href=\"#3-Train-the-classification-algorithms\" data-toc-modified-id=\"3-Train-the-classification-algorithms-3\">3 Train the classification algorithms</a></span></li><li><span><a href=\"#4-Selects-the-algorithm-for-Sentinel-2-MSI\" data-toc-modified-id=\"4-Selects-the-algorithm-for-Sentinel-2-MSI-4\">4 Selects the algorithm for Sentinel-2 MSI</a></span></li><li><span><a href=\"#5-Exhibits-the-statistical-results-of-the-selected-algorithm\" data-toc-modified-id=\"5-Exhibits-the-statistical-results-of-the-selected-algorithm-5\">5 Exhibits the statistical results of the selected algorithm</a></span></li><li><span><a href=\"#6-Saves-the-algorithm\" data-toc-modified-id=\"6-Saves-the-algorithm-6\">6 Saves the algorithm</a></span></li></ul></div>"
   ]
  },
  {
   "cell_type": "markdown",
   "metadata": {},
   "source": [
    "# 1 Introduction\n",
    "<hr>\n",
    "\n",
    "A classification algorithm is trained for Sentinel-2 MSI and is composed of two steps; first, the Optical Water Types (OWT) are classified by its shape using the normalized remote sensing reflectance (Rrs) bands (e.g., normB2); second, the OWTs 6, 7, and 8 are classified by its Rrs intensity using band B3. In both steps, the Support Vector Machine Classifier (SVMC) is used for training the classification algorithm. The novelty detection is not used in this notebook because all dataset is composed of known OWTs. Novelty detection is only useful when applying to new datasets, such as satellite images.\n",
    "\n",
    "<img src=\"00_Database/00_Figures/01_Algorithm_flowchart.jpg\" style=\"width:70%\">"
   ]
  },
  {
   "cell_type": "markdown",
   "metadata": {},
   "source": [
    "# 2 Data access"
   ]
  },
  {
   "cell_type": "code",
   "execution_count": 1,
   "metadata": {},
   "outputs": [],
   "source": [
    "# library used\n",
    "import pandas as pd\n",
    "\n",
    "# msia Input\n",
    "insitu_db = pd.read_csv('00_Database/01_Tables/insitu_db.csv', index_col=0)\n",
    "\n",
    "# define the input data\n",
    "msi_norm = insitu_db[['normB2', 'normB3', 'normB4', 'normB5','normB6']]\n",
    "msi_b3 = insitu_db[['B3']]\n",
    "owts = insitu_db[['OWTs']]\n",
    "owts_shape = owts.applymap(lambda x: x.replace('OWT 6', 'change').\n",
    "              replace('OWT 7', 'change').\n",
    "              replace('OWT 8', 'change').\n",
    "              replace('change', 'OWT 678'))"
   ]
  },
  {
   "cell_type": "markdown",
   "metadata": {},
   "source": [
    "# 3 Train the classification algorithms"
   ]
  },
  {
   "cell_type": "code",
   "execution_count": null,
   "metadata": {},
   "outputs": [],
   "source": [
    "from sklearn.model_selection import GridSearchCV\n",
    "# parameters of random forest\n",
    "x = ['Zsd','N','P', 'P/N','Depth','oxbow','ria','protected','open']\n",
    "y = 'Chl-a'\n",
    "parameters = {'C':[1, 2], 'kernel': 'rbf'}\n",
    "RF = svm.SVC()\n",
    "clf = GridSearchCV(RF, parameters, n_jobs=-1, scoring='explained_variance', cv=2)\n",
    "clf.fit(subset.loc[:, x].values, subset.loc[:, y].values)"
   ]
  },
  {
   "cell_type": "code",
   "execution_count": 2,
   "metadata": {},
   "outputs": [
    {
     "data": {
      "text/html": [
       "<div>\n",
       "<style scoped>\n",
       "    .dataframe tbody tr th:only-of-type {\n",
       "        vertical-align: middle;\n",
       "    }\n",
       "\n",
       "    .dataframe tbody tr th {\n",
       "        vertical-align: top;\n",
       "    }\n",
       "\n",
       "    .dataframe thead th {\n",
       "        text-align: right;\n",
       "    }\n",
       "</style>\n",
       "<table border=\"1\" class=\"dataframe\">\n",
       "  <thead>\n",
       "    <tr style=\"text-align: right;\">\n",
       "      <th></th>\n",
       "      <th>OWTs</th>\n",
       "    </tr>\n",
       "  </thead>\n",
       "  <tbody>\n",
       "    <tr>\n",
       "      <th>0</th>\n",
       "      <td>OWT 7</td>\n",
       "    </tr>\n",
       "    <tr>\n",
       "      <th>1</th>\n",
       "      <td>OWT 3</td>\n",
       "    </tr>\n",
       "    <tr>\n",
       "      <th>2</th>\n",
       "      <td>OWT 3</td>\n",
       "    </tr>\n",
       "    <tr>\n",
       "      <th>3</th>\n",
       "      <td>OWT 3</td>\n",
       "    </tr>\n",
       "    <tr>\n",
       "      <th>4</th>\n",
       "      <td>OWT 2</td>\n",
       "    </tr>\n",
       "    <tr>\n",
       "      <th>...</th>\n",
       "      <td>...</td>\n",
       "    </tr>\n",
       "    <tr>\n",
       "      <th>387</th>\n",
       "      <td>OWT 5</td>\n",
       "    </tr>\n",
       "    <tr>\n",
       "      <th>388</th>\n",
       "      <td>OWT 5</td>\n",
       "    </tr>\n",
       "    <tr>\n",
       "      <th>389</th>\n",
       "      <td>OWT 5</td>\n",
       "    </tr>\n",
       "    <tr>\n",
       "      <th>390</th>\n",
       "      <td>OWT 5</td>\n",
       "    </tr>\n",
       "    <tr>\n",
       "      <th>391</th>\n",
       "      <td>OWT 5</td>\n",
       "    </tr>\n",
       "  </tbody>\n",
       "</table>\n",
       "<p>386 rows × 1 columns</p>\n",
       "</div>"
      ],
      "text/plain": [
       "      OWTs\n",
       "0    OWT 7\n",
       "1    OWT 3\n",
       "2    OWT 3\n",
       "3    OWT 3\n",
       "4    OWT 2\n",
       "..     ...\n",
       "387  OWT 5\n",
       "388  OWT 5\n",
       "389  OWT 5\n",
       "390  OWT 5\n",
       "391  OWT 5\n",
       "\n",
       "[386 rows x 1 columns]"
      ]
     },
     "execution_count": 2,
     "metadata": {},
     "output_type": "execute_result"
    }
   ],
   "source": [
    "owts"
   ]
  },
  {
   "cell_type": "code",
   "execution_count": null,
   "metadata": {},
   "outputs": [],
   "source": []
  },
  {
   "cell_type": "code",
   "execution_count": null,
   "metadata": {},
   "outputs": [],
   "source": []
  },
  {
   "cell_type": "code",
   "execution_count": null,
   "metadata": {},
   "outputs": [],
   "source": []
  },
  {
   "cell_type": "code",
   "execution_count": 2,
   "metadata": {
    "scrolled": true
   },
   "outputs": [
    {
     "name": "stderr",
     "output_type": "stream",
     "text": [
      "C:\\Users\\Edson\\Anaconda3\\envs\\Aquaspec\\lib\\site-packages\\sklearn\\metrics\\_classification.py:1272: UndefinedMetricWarning: Precision and F-score are ill-defined and being set to 0.0 in labels with no predicted samples. Use `zero_division` parameter to control this behavior.\n",
      "  _warn_prf(average, modifier, msg_start, len(result))\n",
      "C:\\Users\\Edson\\Anaconda3\\envs\\Aquaspec\\lib\\site-packages\\sklearn\\metrics\\_classification.py:1272: UndefinedMetricWarning: Precision and F-score are ill-defined and being set to 0.0 in labels with no predicted samples. Use `zero_division` parameter to control this behavior.\n",
      "  _warn_prf(average, modifier, msg_start, len(result))\n",
      "C:\\Users\\Edson\\Anaconda3\\envs\\Aquaspec\\lib\\site-packages\\sklearn\\metrics\\_classification.py:1272: UndefinedMetricWarning: Precision and F-score are ill-defined and being set to 0.0 in labels with no predicted samples. Use `zero_division` parameter to control this behavior.\n",
      "  _warn_prf(average, modifier, msg_start, len(result))\n"
     ]
    }
   ],
   "source": [
    "# library used\n",
    "from sklearn.model_selection import train_test_split\n",
    "from sklearn import svm\n",
    "from sklearn.metrics import balanced_accuracy_score\n",
    "from sklearn.metrics import classification_report\n",
    "from sklearn.metrics import confusion_matrix\n",
    "import copy as cp\n",
    "\n",
    "# dictionaries for saving the accuracy results\n",
    "msi_ba_dic = {}\n",
    "msi_precision_dic = {}\n",
    "msi_recall_dic = {}\n",
    "msi_cm = {}\n",
    "\n",
    "# dictionary for saving the algorithms\n",
    "msi_svmc_alg = {}\n",
    "\n",
    "# dictionary for saving the test labels\n",
    "test_dic = {}\n",
    "# interaction for randomly splitting train and test datasets\n",
    "for x in range(1, 10000):\n",
    "    \n",
    "    # splits the ids into a train (70%) and a test (30%) datasets, weighting the relative proportion of OWTs\n",
    "    train, test = train_test_split(list(owts.index),\n",
    "                                   test_size=0.3,\n",
    "                                   stratify=owts['OWTs'])\n",
    "\n",
    "    # separates the specific ids for further classifying OWTs into 7, 8, and 9\n",
    "    train_678 = owts_shape[owts_shape['OWTs'] == 'OWT 678'].index.intersection(train)\n",
    "\n",
    "    # defines the true values of the test dataset\n",
    "    true = owts.loc[test,:]\n",
    "\n",
    "    # creates the arrays for the SVMC algorithm (shape classification)\n",
    "    msi_shape_x = msi_norm.loc[train,:].values\n",
    "    msi_shape_y = list(owts_shape.loc[train,'OWTs'])\n",
    "\n",
    "    # create the arrays for the SVMC algorithm (intensity classifications)\n",
    "    msi_678_x = msi_b3.loc[train_678,:].values\n",
    "    msi_678_y = list(owts.loc[train_678,'OWTs'])\n",
    "\n",
    "    # train the shape classification algorithm\n",
    "    msi_svmc_shape = svm.SVC(C=1,\n",
    "                             kernel='rbf',\n",
    "                             decision_function_shape='ovo',\n",
    "                             class_weight='balanced',\n",
    "                             probability=True).fit(msi_shape_x,\n",
    "                                                   msi_shape_y)\n",
    "    \n",
    "\n",
    "\n",
    "    # train the intensity classification algorithm\n",
    "    msi_svmc_678 = svm.SVC(C=1,\n",
    "                           kernel='rbf',\n",
    "                           decision_function_shape='ovo',\n",
    "                           class_weight='balanced',\n",
    "                           probability=True).fit(msi_678_x,\n",
    "                                                 msi_678_y)\n",
    "\n",
    "    # predict the OWTs in the test dataset (shape)\n",
    "    msi_svmc_predicted = msi_svmc_shape.predict(msi_norm.loc[test,:].values)\n",
    "    msi_svmc_predicted = pd.DataFrame(msi_svmc_predicted,\n",
    "                                      index=test,\n",
    "                                      columns=['msi_predicted'])\n",
    "\n",
    "    # predict the OWTs in the test dataset (OWTs 7, 8, and 9)\n",
    "    msi_owt678_predicted_id = msi_svmc_predicted[msi_svmc_predicted['msi_predicted'] == 'OWT 678'].index\n",
    "    msi_svmc_predicted_678 = msi_svmc_678.predict(msi_b3.loc[msi_owt678_predicted_id,:].values)\n",
    "    msi_svmc_predicted_678 = pd.DataFrame(msi_svmc_predicted_678,\n",
    "                                          index=msi_owt678_predicted_id,\n",
    "                                          columns=['msi_predicted'])\n",
    "\n",
    "    # concatenate all predicted OWTs\n",
    "    msi_svmc_predicted.update(msi_svmc_predicted_678)\n",
    "    \n",
    "    # creates an evaluation dataset, concatenate predicted OWTs and the true OWTs\n",
    "    msi_evaluation = msi_svmc_predicted.join(true)\n",
    "    \n",
    "    # computes balanced accuracy, precision, and recall\n",
    "    msi_ba = balanced_accuracy_score(msi_evaluation['OWTs'],\n",
    "                                     msi_evaluation['msi_predicted'])\n",
    "\n",
    "    msi_report = pd.DataFrame(classification_report(msi_evaluation['OWTs'],\n",
    "                                                    msi_evaluation['msi_predicted'],\n",
    "                                                    output_dict=True))\n",
    "    \n",
    "    msi_confusion_matrix = confusion_matrix(msi_evaluation['OWTs'],\n",
    "                                            msi_evaluation['msi_predicted'])\n",
    "    \n",
    "    \n",
    "    # saves the statistical results\n",
    "    msi_ba_dic[x] = msi_ba\n",
    "    msi_precision_dic[x] = msi_report.loc['precision',:]\n",
    "    msi_recall_dic[x] = msi_report.loc['recall',:]\n",
    "    msi_cm[x] = msi_confusion_matrix    \n",
    "    \n",
    "    # saves the algorithms\n",
    "    msi_svmc_alg[x] = cp.copy([msi_svmc_shape, msi_svmc_678])\n",
    "    \n",
    "    # saves the test label\n",
    "    test_dic[x] = test"
   ]
  },
  {
   "cell_type": "markdown",
   "metadata": {},
   "source": [
    "# 4 Selects the algorithm for Sentinel-2 MSI\n",
    "<hr>\n",
    "Ten thousand algorithms were calibrated for Sentinel-2 MSI sensor, where each interaction corresponds to different training and test datasets. The algorithm chosen will be that with the median accuracy."
   ]
  },
  {
   "cell_type": "code",
   "execution_count": 3,
   "metadata": {},
   "outputs": [],
   "source": [
    "# creates a table with the accuracies of all algorithms\n",
    "msi_ba_table = pd.DataFrame(msi_ba_dic.values(), index=msi_ba_dic.keys(), columns=['Accuracy'])\n",
    "\n",
    "# sort accuracy values\n",
    "msi_ba_table = msi_ba_table.sort_values(by='Accuracy')\n",
    "\n",
    "# retrieves the algorithm id with the median accuracy\n",
    "middle_row = round(len(msi_ba_table)/2)\n",
    "msi_alg_number = msi_ba_table.iloc[middle_row,:].name"
   ]
  },
  {
   "cell_type": "markdown",
   "metadata": {},
   "source": [
    "# 5 Exhibits the statistical results of the selected algorithm"
   ]
  },
  {
   "cell_type": "code",
   "execution_count": 4,
   "metadata": {},
   "outputs": [
    {
     "name": "stdout",
     "output_type": "stream",
     "text": [
      "Sentinel-2 MSI: SVMC balanced accuracy\n"
     ]
    },
    {
     "data": {
      "text/plain": [
       "0.94"
      ]
     },
     "metadata": {},
     "output_type": "display_data"
    }
   ],
   "source": [
    "# library used\n",
    "from IPython.core import display as ICD\n",
    "\n",
    "# print the accuracy values\n",
    "print('Sentinel-2 MSI: SVMC balanced accuracy')\n",
    "ICD.display(msi_ba_table.loc[msi_alg_number,:].round(2)[0])"
   ]
  },
  {
   "cell_type": "code",
   "execution_count": 5,
   "metadata": {},
   "outputs": [],
   "source": [
    "# select the precision of all OWTs\n",
    "precision = msi_precision_dic[msi_alg_number].iloc[0:8]\n",
    "\n",
    "# select the recall of all OWTs\n",
    "recall = msi_recall_dic[msi_alg_number].iloc[0:8]\n"
   ]
  },
  {
   "cell_type": "code",
   "execution_count": 6,
   "metadata": {},
   "outputs": [
    {
     "name": "stdout",
     "output_type": "stream",
     "text": [
      "Precision\n"
     ]
    },
    {
     "data": {
      "text/plain": [
       "OWT 1    0.92\n",
       "OWT 2    1.00\n",
       "OWT 3    0.82\n",
       "OWT 4    1.00\n",
       "OWT 5    1.00\n",
       "OWT 6    1.00\n",
       "OWT 7    1.00\n",
       "OWT 8    1.00\n",
       "Name: precision, dtype: float64"
      ]
     },
     "metadata": {},
     "output_type": "display_data"
    },
    {
     "name": "stdout",
     "output_type": "stream",
     "text": [
      "\n",
      "\n",
      "Recall\n"
     ]
    },
    {
     "data": {
      "text/plain": [
       "OWT 1    1.00\n",
       "OWT 2    0.96\n",
       "OWT 3    1.00\n",
       "OWT 4    0.82\n",
       "OWT 5    1.00\n",
       "OWT 6    0.75\n",
       "OWT 7    1.00\n",
       "OWT 8    1.00\n",
       "Name: recall, dtype: float64"
      ]
     },
     "metadata": {},
     "output_type": "display_data"
    }
   ],
   "source": [
    "print('Precision')\n",
    "ICD.display(precision.round(2))\n",
    "print('\\n')\n",
    "print('Recall')\n",
    "ICD.display(recall.round(2))\n"
   ]
  },
  {
   "cell_type": "code",
   "execution_count": 7,
   "metadata": {},
   "outputs": [
    {
     "name": "stdout",
     "output_type": "stream",
     "text": [
      "Sentinel-2 MSI confusion matrix\n"
     ]
    },
    {
     "data": {
      "text/html": [
       "<div>\n",
       "<style scoped>\n",
       "    .dataframe tbody tr th:only-of-type {\n",
       "        vertical-align: middle;\n",
       "    }\n",
       "\n",
       "    .dataframe tbody tr th {\n",
       "        vertical-align: top;\n",
       "    }\n",
       "\n",
       "    .dataframe thead th {\n",
       "        text-align: right;\n",
       "    }\n",
       "</style>\n",
       "<table border=\"1\" class=\"dataframe\">\n",
       "  <thead>\n",
       "    <tr style=\"text-align: right;\">\n",
       "      <th></th>\n",
       "      <th>OWT 1</th>\n",
       "      <th>OWT 2</th>\n",
       "      <th>OWT 3</th>\n",
       "      <th>OWT 4</th>\n",
       "      <th>OWT 5</th>\n",
       "      <th>OWT 6</th>\n",
       "      <th>OWT 7</th>\n",
       "      <th>OWT 8</th>\n",
       "    </tr>\n",
       "  </thead>\n",
       "  <tbody>\n",
       "    <tr>\n",
       "      <th>OWT 1</th>\n",
       "      <td>24</td>\n",
       "      <td>0</td>\n",
       "      <td>0</td>\n",
       "      <td>0</td>\n",
       "      <td>0</td>\n",
       "      <td>0</td>\n",
       "      <td>0</td>\n",
       "      <td>0</td>\n",
       "    </tr>\n",
       "    <tr>\n",
       "      <th>OWT 2</th>\n",
       "      <td>0</td>\n",
       "      <td>22</td>\n",
       "      <td>1</td>\n",
       "      <td>0</td>\n",
       "      <td>0</td>\n",
       "      <td>0</td>\n",
       "      <td>0</td>\n",
       "      <td>0</td>\n",
       "    </tr>\n",
       "    <tr>\n",
       "      <th>OWT 3</th>\n",
       "      <td>0</td>\n",
       "      <td>0</td>\n",
       "      <td>9</td>\n",
       "      <td>0</td>\n",
       "      <td>0</td>\n",
       "      <td>0</td>\n",
       "      <td>0</td>\n",
       "      <td>0</td>\n",
       "    </tr>\n",
       "    <tr>\n",
       "      <th>OWT 4</th>\n",
       "      <td>2</td>\n",
       "      <td>0</td>\n",
       "      <td>0</td>\n",
       "      <td>9</td>\n",
       "      <td>0</td>\n",
       "      <td>0</td>\n",
       "      <td>0</td>\n",
       "      <td>0</td>\n",
       "    </tr>\n",
       "    <tr>\n",
       "      <th>OWT 5</th>\n",
       "      <td>0</td>\n",
       "      <td>0</td>\n",
       "      <td>0</td>\n",
       "      <td>0</td>\n",
       "      <td>11</td>\n",
       "      <td>0</td>\n",
       "      <td>0</td>\n",
       "      <td>0</td>\n",
       "    </tr>\n",
       "    <tr>\n",
       "      <th>OWT 6</th>\n",
       "      <td>0</td>\n",
       "      <td>0</td>\n",
       "      <td>1</td>\n",
       "      <td>0</td>\n",
       "      <td>0</td>\n",
       "      <td>3</td>\n",
       "      <td>0</td>\n",
       "      <td>0</td>\n",
       "    </tr>\n",
       "    <tr>\n",
       "      <th>OWT 7</th>\n",
       "      <td>0</td>\n",
       "      <td>0</td>\n",
       "      <td>0</td>\n",
       "      <td>0</td>\n",
       "      <td>0</td>\n",
       "      <td>0</td>\n",
       "      <td>30</td>\n",
       "      <td>0</td>\n",
       "    </tr>\n",
       "    <tr>\n",
       "      <th>OWT 8</th>\n",
       "      <td>0</td>\n",
       "      <td>0</td>\n",
       "      <td>0</td>\n",
       "      <td>0</td>\n",
       "      <td>0</td>\n",
       "      <td>0</td>\n",
       "      <td>0</td>\n",
       "      <td>4</td>\n",
       "    </tr>\n",
       "  </tbody>\n",
       "</table>\n",
       "</div>"
      ],
      "text/plain": [
       "       OWT 1  OWT 2  OWT 3  OWT 4  OWT 5  OWT 6  OWT 7  OWT 8\n",
       "OWT 1     24      0      0      0      0      0      0      0\n",
       "OWT 2      0     22      1      0      0      0      0      0\n",
       "OWT 3      0      0      9      0      0      0      0      0\n",
       "OWT 4      2      0      0      9      0      0      0      0\n",
       "OWT 5      0      0      0      0     11      0      0      0\n",
       "OWT 6      0      0      1      0      0      3      0      0\n",
       "OWT 7      0      0      0      0      0      0     30      0\n",
       "OWT 8      0      0      0      0      0      0      0      4"
      ]
     },
     "metadata": {},
     "output_type": "display_data"
    }
   ],
   "source": [
    "print('Sentinel-2 MSI confusion matrix')\n",
    "ICD.display(pd.DataFrame(msi_cm[msi_alg_number],\n",
    "           index=['OWT 1', 'OWT 2',  'OWT 3','OWT 4', 'OWT 5', 'OWT 6', 'OWT 7', 'OWT 8'],\n",
    "           columns=['OWT 1', 'OWT 2',  'OWT 3','OWT 4', 'OWT 5', 'OWT 6', 'OWT 7', 'OWT 8']))\n"
   ]
  },
  {
   "cell_type": "markdown",
   "metadata": {},
   "source": [
    "# 6 Saves the algorithm"
   ]
  },
  {
   "cell_type": "code",
   "execution_count": 8,
   "metadata": {},
   "outputs": [],
   "source": [
    "# library used\n",
    "import pickle\n",
    "\n",
    "# saves the algorithms in files, where each file is a list of two algorithms (shape classification and intensity classification)\n",
    "file_pi = open('00_Database/02_Algorithms/msi_svmc_owts.obj', 'wb') \n",
    "pickle.dump(msi_svmc_alg[msi_alg_number], file_pi)\n",
    "file_pi.close()"
   ]
  },
  {
   "cell_type": "code",
   "execution_count": 9,
   "metadata": {},
   "outputs": [],
   "source": [
    "# saves the test ids\n",
    "pd.DataFrame(test_dic[msi_alg_number], \n",
    "             columns = ['id']).to_csv('00_Database/02_Algorithms/test_ids.csv')"
   ]
  }
 ],
 "metadata": {
  "hide_input": true,
  "kernelspec": {
   "display_name": "Aquaspec",
   "language": "python",
   "name": "aquaspec"
  },
  "language_info": {
   "codemirror_mode": {
    "name": "ipython",
    "version": 3
   },
   "file_extension": ".py",
   "mimetype": "text/x-python",
   "name": "python",
   "nbconvert_exporter": "python",
   "pygments_lexer": "ipython3",
   "version": "3.7.0"
  },
  "toc": {
   "base_numbering": 1,
   "nav_menu": {},
   "number_sections": false,
   "sideBar": true,
   "skip_h1_title": false,
   "title_cell": "Table of Contents",
   "title_sidebar": "Contents",
   "toc_cell": true,
   "toc_position": {},
   "toc_section_display": true,
   "toc_window_display": true
  },
  "varInspector": {
   "cols": {
    "lenName": 16,
    "lenType": 16,
    "lenVar": 40
   },
   "kernels_config": {
    "python": {
     "delete_cmd_postfix": "",
     "delete_cmd_prefix": "del ",
     "library": "var_list.py",
     "varRefreshCmd": "print(var_dic_list())"
    },
    "r": {
     "delete_cmd_postfix": ") ",
     "delete_cmd_prefix": "rm(",
     "library": "var_list.r",
     "varRefreshCmd": "cat(var_dic_list()) "
    }
   },
   "types_to_exclude": [
    "module",
    "function",
    "builtin_function_or_method",
    "instance",
    "_Feature"
   ],
   "window_display": false
  }
 },
 "nbformat": 4,
 "nbformat_minor": 4
}
