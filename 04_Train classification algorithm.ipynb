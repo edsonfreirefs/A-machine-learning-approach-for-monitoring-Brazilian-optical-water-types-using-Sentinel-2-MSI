{
 "cells": [
  {
   "cell_type": "markdown",
   "metadata": {
    "toc": true
   },
   "source": [
    "<h1>Table of Contents<span class=\"tocSkip\"></span></h1>\n",
    "<div class=\"toc\"><ul class=\"toc-item\"><li><span><a href=\"#1-Introduction\" data-toc-modified-id=\"1-Introduction-1\">1 Introduction</a></span></li><li><span><a href=\"#2-Data-access\" data-toc-modified-id=\"2-Data-access-2\">2 Data access</a></span></li><li><span><a href=\"#3-Train-the-classification-algorithms\" data-toc-modified-id=\"3-Train-the-classification-algorithms-3\">3 Train the classification algorithms</a></span></li><li><span><a href=\"#3-Saves-the-algorithm\" data-toc-modified-id=\"3-Saves-the-algorithm-4\">3 Saves the algorithm</a></span></li></ul></div>"
   ]
  },
  {
   "cell_type": "markdown",
   "metadata": {},
   "source": [
    "# 1 Introduction\n",
    "<hr>\n",
    "\n",
    "A classification algorithm is trained for Sentinel-2 MSI and is composed of two steps; first, the Optical Water Types (OWT) are classified by its shape using the normalized remote sensing reflectance (Rrs) bands (e.g., normB2); second, the OWTs 6, 7, and 8 are classified by its Rrs intensity using band B3. In both steps, the Support Vector Machine Classifier (SVMC) is used for training the classification algorithm. The novelty detection is not used in this notebook because all dataset is composed of known OWTs. Novelty detection is only useful when applying to new datasets, such as satellite images.\n",
    "<hr>\n",
    "This notebook calibrate the SVMs algorithm using the entire dataset, which is then applied to all satellite images.\n",
    "\n",
    "<img src=\"00_Database/00_Figures/01_Algorithm_flowchart.jpg\" style=\"width:70%\">"
   ]
  },
  {
   "cell_type": "markdown",
   "metadata": {},
   "source": [
    "# 2 Data access"
   ]
  },
  {
   "cell_type": "code",
   "execution_count": 1,
   "metadata": {},
   "outputs": [],
   "source": [
    "# library used\n",
    "import pandas as pd\n",
    "\n",
    "# msia Input\n",
    "insitu_db = pd.read_csv('00_Database/01_Tables/insitu_db.csv', index_col=0)\n",
    "\n",
    "# define the input data\n",
    "msi_norm = insitu_db[['normB2', 'normB3', 'normB4', 'normB5','normB6']]\n",
    "msi_b3 = insitu_db[['B3']]\n",
    "owts = insitu_db[['OWTs']]\n",
    "owts_shape = owts.applymap(lambda x: x.replace('OWT 6', 'change').\n",
    "              replace('OWT 7', 'change').\n",
    "              replace('OWT 8', 'change').\n",
    "              replace('change', 'OWT 678'))"
   ]
  },
  {
   "cell_type": "markdown",
   "metadata": {},
   "source": [
    "# 3 Train the classification algorithms"
   ]
  },
  {
   "cell_type": "code",
   "execution_count": 2,
   "metadata": {},
   "outputs": [],
   "source": [
    "# library used\n",
    "from sklearn.model_selection import train_test_split\n",
    "from sklearn import svm\n",
    "from sklearn.metrics import balanced_accuracy_score\n",
    "from sklearn.metrics import classification_report\n",
    "from sklearn.metrics import confusion_matrix\n",
    "import copy as cp\n",
    "\n",
    "# creates the arrays for the SVMC algorithm (shape classification)\n",
    "msi_shape_x = msi_norm.values\n",
    "msi_shape_y = list(owts_shape.loc[:,'OWTs'])\n",
    "\n",
    "\n",
    "# create the arrays for the SVMC algorithm (intensity classifications)\n",
    "# separates the specific ids for further classifying OWTs into 7, 8, and 9\n",
    "train_678 = owts_shape[owts_shape['OWTs'] == 'OWT 678'].index\n",
    "msi_678_x = msi_b3.loc[train_678,:].values\n",
    "msi_678_y = list(owts.loc[train_678,'OWTs'])\n",
    "\n",
    "# train the shape classification algorithm\n",
    "msi_svmc_shape = svm.SVC(C=1,\n",
    "                         kernel='rbf',\n",
    "                         decision_function_shape='ovo',\n",
    "                         class_weight='balanced',\n",
    "                         probability=True).fit(msi_shape_x,\n",
    "                                               msi_shape_y)\n",
    "\n",
    "# train the intensity classification algorithm\n",
    "msi_svmc_678 = svm.SVC(C=1,\n",
    "                       kernel='rbf',\n",
    "                       decision_function_shape='ovo',\n",
    "                       class_weight='balanced',\n",
    "                       probability=True).fit(msi_678_x,\n",
    "                                             msi_678_y)\n",
    "\n",
    "# saves the algorithms\n",
    "msi_svmc_alg = cp.copy([msi_svmc_shape, msi_svmc_678])\n"
   ]
  },
  {
   "cell_type": "markdown",
   "metadata": {},
   "source": [
    "# 3 Saves the algorithm"
   ]
  },
  {
   "cell_type": "code",
   "execution_count": 3,
   "metadata": {},
   "outputs": [],
   "source": [
    "# library used\n",
    "import pickle\n",
    "\n",
    "# saves the algorithms in files, where each file is a list of two algorithms (shape classification and intensity classification)\n",
    "file_pi = open('00_Database/02_Algorithms/msi_svmc_owts_alldataset.obj', 'wb') \n",
    "pickle.dump(msi_svmc_alg, file_pi)\n",
    "file_pi.close()"
   ]
  }
 ],
 "metadata": {
  "kernelspec": {
   "display_name": "Aquaspec",
   "language": "python",
   "name": "aquaspec"
  },
  "language_info": {
   "codemirror_mode": {
    "name": "ipython",
    "version": 3
   },
   "file_extension": ".py",
   "mimetype": "text/x-python",
   "name": "python",
   "nbconvert_exporter": "python",
   "pygments_lexer": "ipython3",
   "version": "3.7.0"
  },
  "toc": {
   "base_numbering": 1,
   "nav_menu": {},
   "number_sections": false,
   "sideBar": true,
   "skip_h1_title": false,
   "title_cell": "Table of Contents",
   "title_sidebar": "Contents",
   "toc_cell": true,
   "toc_position": {},
   "toc_section_display": true,
   "toc_window_display": true
  }
 },
 "nbformat": 4,
 "nbformat_minor": 4
}
