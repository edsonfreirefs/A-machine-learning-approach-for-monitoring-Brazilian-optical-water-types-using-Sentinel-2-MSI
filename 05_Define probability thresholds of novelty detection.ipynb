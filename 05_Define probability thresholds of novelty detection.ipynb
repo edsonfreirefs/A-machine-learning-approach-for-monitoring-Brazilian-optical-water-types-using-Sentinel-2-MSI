{
 "cells": [
  {
   "cell_type": "markdown",
   "metadata": {
    "toc": true
   },
   "source": [
    "<h1>Table of Contents<span class=\"tocSkip\"></span></h1>\n",
    "<div class=\"toc\"><ul class=\"toc-item\"><li><span><a href=\"#1-Introduction\" data-toc-modified-id=\"1-Introduction-1\">1 Introduction</a></span></li><li><span><a href=\"#2-Data-access\" data-toc-modified-id=\"2-Data-access-2\">2 Data access</a></span></li><li><span><a href=\"#3-Estimate-probabilities\" data-toc-modified-id=\"3-Estimate-probabilities-3\">3 Estimate probabilities</a></span></li><li><span><a href=\"#4-Graphic-analysis\" data-toc-modified-id=\"4-Graphic-analysis-4\">4 Graphic analysis</a></span></li><li><span><a href=\"#5-Define-the-thresholds\" data-toc-modified-id=\"5-Define-the-thresholds-5\">5 Define the thresholds</a></span></li></ul></div>"
   ]
  },
  {
   "cell_type": "markdown",
   "metadata": {},
   "source": [
    "# 1 Introduction\n",
    "<br>\n",
    "This notebook defines probability thresholds of each OWT retrieved from the Support Vector Machine Classifier (SVMC) algorithm. It is a pos-processing needed since the SVMC classification will classify any kind of target (e.g. unknown OWT) to a know OWT. Thus, we use the in situ samples with known OWT to define the minimum probability needed to be used in satellite images, and, consequently, discerning between a known OWT and unknown OWT."
   ]
  },
  {
   "cell_type": "markdown",
   "metadata": {},
   "source": [
    "# 2 Data access"
   ]
  },
  {
   "cell_type": "code",
   "execution_count": 1,
   "metadata": {},
   "outputs": [],
   "source": [
    "# library used\n",
    "import pickle\n",
    "import pandas as pd\n",
    "from IPython.core import display as ICD\n",
    "\n",
    "# read data\n",
    "msi_svmc_alg = open('00_Database/02_Algorithms/msi_svmc_owts_alldataset.obj', 'rb') \n",
    "msi_svmc_alg = pickle.load(msi_svmc_alg)\n",
    "msi_svmc_shape = msi_svmc_alg[0]\n",
    "msi_svmc_678 = msi_svmc_alg[1]\n",
    "\n",
    "insitu_db = pd.read_csv('00_Database/01_Tables/insitu_db.csv', index_col=0)\n",
    "\n",
    "# define the input data\n",
    "msi = insitu_db[['B2', 'B3', 'B4', 'B5','B6']]\n",
    "owts = insitu_db[['OWTs']]\n",
    "owts_shape = owts.applymap(lambda x: x.replace('OWT 6', 'change').\n",
    "              replace('OWT 7', 'change').\n",
    "              replace('OWT 8', 'change').\n",
    "              replace('change', 'OWT 678'))"
   ]
  },
  {
   "cell_type": "code",
   "execution_count": 2,
   "metadata": {},
   "outputs": [
    {
     "data": {
      "text/plain": [
       "[SVC(C=1, break_ties=False, cache_size=200, class_weight='balanced', coef0=0.0,\n",
       "     decision_function_shape='ovo', degree=3, gamma='scale', kernel='rbf',\n",
       "     max_iter=-1, probability=True, random_state=None, shrinking=True, tol=0.001,\n",
       "     verbose=False),\n",
       " SVC(C=1, break_ties=False, cache_size=200, class_weight='balanced', coef0=0.0,\n",
       "     decision_function_shape='ovo', degree=3, gamma='scale', kernel='rbf',\n",
       "     max_iter=-1, probability=True, random_state=None, shrinking=True, tol=0.001,\n",
       "     verbose=False)]"
      ]
     },
     "execution_count": 2,
     "metadata": {},
     "output_type": "execute_result"
    }
   ],
   "source": [
    "msi_svmc_alg"
   ]
  },
  {
   "cell_type": "code",
   "execution_count": 3,
   "metadata": {},
   "outputs": [
    {
     "data": {
      "text/plain": [
       "[SVC(C=1, break_ties=False, cache_size=200, class_weight='balanced', coef0=0.0,\n",
       "     decision_function_shape='ovo', degree=3, gamma='scale', kernel='rbf',\n",
       "     max_iter=-1, probability=True, random_state=None, shrinking=True, tol=0.001,\n",
       "     verbose=False),\n",
       " SVC(C=1, break_ties=False, cache_size=200, class_weight='balanced', coef0=0.0,\n",
       "     decision_function_shape='ovo', degree=3, gamma='scale', kernel='rbf',\n",
       "     max_iter=-1, probability=True, random_state=None, shrinking=True, tol=0.001,\n",
       "     verbose=False)]"
      ]
     },
     "execution_count": 3,
     "metadata": {},
     "output_type": "execute_result"
    }
   ],
   "source": [
    "msi_svmc_alg"
   ]
  },
  {
   "cell_type": "markdown",
   "metadata": {},
   "source": [
    "# 3 Estimate probabilities"
   ]
  },
  {
   "cell_type": "code",
   "execution_count": 4,
   "metadata": {},
   "outputs": [],
   "source": [
    "# define the test ids\n",
    "test = insitu_db.index\n",
    "\n",
    "# chooses the algorithm input\n",
    "msi_norm = msi.divide(msi.sum(axis=1), axis='rows')\n",
    "msi_b3 = msi[['B3']]\n",
    "\n",
    "# predict the OWTs in the test dataset (shape)\n",
    "msi_svmc_predicted = msi_svmc_shape.predict(msi_norm.loc[test,:].values)\n",
    "msi_svmc_predicted = pd.DataFrame(msi_svmc_predicted,\n",
    "                                  index=test,\n",
    "                                  columns=['msi_predicted'])\n",
    "\n",
    "msi_svmc_predicted_prob = msi_svmc_shape.predict_proba(msi_norm.loc[test,:].values)\n",
    "msi_svmc_predicted_prob = pd.DataFrame(msi_svmc_predicted_prob, index=test)\n",
    "msi_svmc_predicted_prob.columns = ['OWT 1', 'OWT 2', 'OWT 3', 'OWT 4', 'OWT 5', 'OWT 678']\n",
    "\n",
    "# predict the OWTs in the test dataset (OWTs 7, 8, and 9)\n",
    "msi_owt678_predicted_id = msi_svmc_predicted[msi_svmc_predicted['msi_predicted'] == 'OWT 678'].index\n",
    "msi_svmc_predicted_678 = msi_svmc_678.predict(msi_b3.loc[msi_owt678_predicted_id,:].values)\n",
    "msi_svmc_predicted_678 = pd.DataFrame(msi_svmc_predicted_678,\n",
    "                                      index=msi_owt678_predicted_id,\n",
    "                                      columns=['msi_predicted'])\n",
    "\n",
    "msi_svmc_predicted_678_prob = msi_svmc_678.predict_proba(msi_b3.loc[msi_owt678_predicted_id,:].values)\n",
    "msi_svmc_predicted_678_prob = pd.DataFrame(msi_svmc_predicted_678_prob, index=msi_owt678_predicted_id)\n",
    "msi_svmc_predicted_678_prob.columns = ['OWT 6', 'OWT 7', 'OWT 8']\n",
    "msi_svmc_predicted_678_prob = msi_svmc_predicted_678_prob.multiply(msi_svmc_predicted_prob['OWT 678'], axis='rows').dropna()\n",
    "\n",
    "# concatenate all predicted OWTs\n",
    "msi_svmc_predicted.update(msi_svmc_predicted_678)\n",
    "msi_svmc_predicted_prob = msi_svmc_predicted_prob.join(msi_svmc_predicted_678_prob)\n",
    "msi_svmc_predicted = msi_svmc_predicted.join(msi_svmc_predicted_prob)"
   ]
  },
  {
   "cell_type": "code",
   "execution_count": 5,
   "metadata": {},
   "outputs": [
    {
     "data": {
      "text/html": [
       "<div>\n",
       "<style scoped>\n",
       "    .dataframe tbody tr th:only-of-type {\n",
       "        vertical-align: middle;\n",
       "    }\n",
       "\n",
       "    .dataframe tbody tr th {\n",
       "        vertical-align: top;\n",
       "    }\n",
       "\n",
       "    .dataframe thead th {\n",
       "        text-align: right;\n",
       "    }\n",
       "</style>\n",
       "<table border=\"1\" class=\"dataframe\">\n",
       "  <thead>\n",
       "    <tr style=\"text-align: right;\">\n",
       "      <th></th>\n",
       "      <th>OWT 6</th>\n",
       "      <th>OWT 7</th>\n",
       "      <th>OWT 8</th>\n",
       "    </tr>\n",
       "  </thead>\n",
       "  <tbody>\n",
       "    <tr>\n",
       "      <th>0</th>\n",
       "      <td>0.004259</td>\n",
       "      <td>0.925542</td>\n",
       "      <td>0.018647</td>\n",
       "    </tr>\n",
       "    <tr>\n",
       "      <th>9</th>\n",
       "      <td>0.003931</td>\n",
       "      <td>0.918629</td>\n",
       "      <td>0.018581</td>\n",
       "    </tr>\n",
       "    <tr>\n",
       "      <th>10</th>\n",
       "      <td>0.004922</td>\n",
       "      <td>0.964944</td>\n",
       "      <td>0.019093</td>\n",
       "    </tr>\n",
       "    <tr>\n",
       "      <th>12</th>\n",
       "      <td>0.004860</td>\n",
       "      <td>0.963727</td>\n",
       "      <td>0.018485</td>\n",
       "    </tr>\n",
       "    <tr>\n",
       "      <th>16</th>\n",
       "      <td>0.004101</td>\n",
       "      <td>0.969921</td>\n",
       "      <td>0.019711</td>\n",
       "    </tr>\n",
       "    <tr>\n",
       "      <th>...</th>\n",
       "      <td>...</td>\n",
       "      <td>...</td>\n",
       "      <td>...</td>\n",
       "    </tr>\n",
       "    <tr>\n",
       "      <th>270</th>\n",
       "      <td>0.008949</td>\n",
       "      <td>0.738912</td>\n",
       "      <td>0.014141</td>\n",
       "    </tr>\n",
       "    <tr>\n",
       "      <th>271</th>\n",
       "      <td>0.013482</td>\n",
       "      <td>0.761107</td>\n",
       "      <td>0.015105</td>\n",
       "    </tr>\n",
       "    <tr>\n",
       "      <th>272</th>\n",
       "      <td>0.004217</td>\n",
       "      <td>0.960915</td>\n",
       "      <td>0.019548</td>\n",
       "    </tr>\n",
       "    <tr>\n",
       "      <th>273</th>\n",
       "      <td>0.003788</td>\n",
       "      <td>0.934030</td>\n",
       "      <td>0.019324</td>\n",
       "    </tr>\n",
       "    <tr>\n",
       "      <th>274</th>\n",
       "      <td>0.004220</td>\n",
       "      <td>0.967680</td>\n",
       "      <td>0.019432</td>\n",
       "    </tr>\n",
       "  </tbody>\n",
       "</table>\n",
       "<p>125 rows × 3 columns</p>\n",
       "</div>"
      ],
      "text/plain": [
       "        OWT 6     OWT 7     OWT 8\n",
       "0    0.004259  0.925542  0.018647\n",
       "9    0.003931  0.918629  0.018581\n",
       "10   0.004922  0.964944  0.019093\n",
       "12   0.004860  0.963727  0.018485\n",
       "16   0.004101  0.969921  0.019711\n",
       "..        ...       ...       ...\n",
       "270  0.008949  0.738912  0.014141\n",
       "271  0.013482  0.761107  0.015105\n",
       "272  0.004217  0.960915  0.019548\n",
       "273  0.003788  0.934030  0.019324\n",
       "274  0.004220  0.967680  0.019432\n",
       "\n",
       "[125 rows x 3 columns]"
      ]
     },
     "execution_count": 5,
     "metadata": {},
     "output_type": "execute_result"
    }
   ],
   "source": [
    "msi_svmc_predicted_678_prob"
   ]
  },
  {
   "cell_type": "markdown",
   "metadata": {},
   "source": [
    "# 4 Graphic analysis"
   ]
  },
  {
   "cell_type": "code",
   "execution_count": 6,
   "metadata": {},
   "outputs": [
    {
     "name": "stdout",
     "output_type": "stream",
     "text": [
      "Boxplot\n"
     ]
    },
    {
     "data": {
      "image/png": "[encoded data removed]",
      "text/plain": [
       "<Figure size 720x1080 with 8 Axes>"
      ]
     },
     "metadata": {
      "needs_background": "light"
     },
     "output_type": "display_data"
    }
   ],
   "source": [
    "# library used\n",
    "import seaborn as sns\n",
    "import matplotlib.pyplot as plt\n",
    "\n",
    "# plot boxplot\n",
    "print('Boxplot')\n",
    "plt.figure(figsize=(10, 15))\n",
    "i = 1\n",
    "for x in ['OWT 1', 'OWT 2', 'OWT 3', 'OWT 4', 'OWT 5', 'OWT 6', 'OWT 7', 'OWT 8']:\n",
    "    \n",
    "    ax = plt.subplot(3, 3, i)\n",
    "    subset = msi_svmc_predicted[msi_svmc_predicted['msi_predicted'] == x]\n",
    "\n",
    "    if int(x[-1])<6:\n",
    "        subset = subset.drop(['OWT 6', 'OWT 7', 'OWT 8'], axis=1)\n",
    "        \n",
    "    else:\n",
    "        subset = subset.drop('OWT 678', axis=1)\n",
    "        \n",
    "    sns.boxplot(data=subset, ax=ax)\n",
    "    ax.set_title(x, fontsize=10)\n",
    "    ax.set_ylabel('Probability', fontsize=10)\n",
    "    ax.set_ylim(0, 1)\n",
    "    ax.tick_params(axis='x', labelrotation=90)\n",
    "    \n",
    "    i=i+1\n",
    "    \n",
    "plt.tight_layout()"
   ]
  },
  {
   "cell_type": "markdown",
   "metadata": {},
   "source": [
    "# 5 Define the thresholds\n",
    "<br>\n",
    "The thresholds defined are the minimum values after removing the lower 1%. In other words, the percentile 1% of each distribution."
   ]
  },
  {
   "cell_type": "code",
   "execution_count": 7,
   "metadata": {},
   "outputs": [
    {
     "name": "stdout",
     "output_type": "stream",
     "text": [
      "Probability thresholds excluding the lowest 1%\n",
      "OWT 1 : 0.72\n",
      "OWT 2 : 0.56\n",
      "OWT 3 : 0.3\n",
      "OWT 4 : 0.35\n",
      "OWT 5 : 0.56\n",
      "OWT 6 : 0.85\n",
      "OWT 7 : 0.74\n",
      "OWT 8 : 0.84\n"
     ]
    }
   ],
   "source": [
    "# library used\n",
    "import numpy as np\n",
    "\n",
    "print('Probability thresholds excluding the lowest 1%')\n",
    "for x in ['OWT 1', 'OWT 2', 'OWT 3', 'OWT 4', 'OWT 5', 'OWT 6', 'OWT 7', 'OWT 8']:\n",
    "    \n",
    "    subset = msi_svmc_predicted[msi_svmc_predicted['msi_predicted'] == x]\n",
    "    quantitle_5 = np.round(subset.quantile(0.01)[x], 2)\n",
    "    print(x+' :', quantitle_5)"
   ]
  },
  {
   "cell_type": "code",
   "execution_count": 8,
   "metadata": {},
   "outputs": [
    {
     "name": "stdout",
     "output_type": "stream",
     "text": [
      "Probability thresholds excluding the lowest 5%\n",
      "OWT 1 : 0.82\n",
      "OWT 2 : 0.6\n",
      "OWT 3 : 0.37\n",
      "OWT 4 : 0.46\n",
      "OWT 5 : 0.61\n",
      "OWT 6 : 0.85\n",
      "OWT 7 : 0.81\n",
      "OWT 8 : 0.85\n"
     ]
    }
   ],
   "source": [
    "# library used\n",
    "import numpy as np\n",
    "\n",
    "print('Probability thresholds excluding the lowest 5%')\n",
    "for x in ['OWT 1', 'OWT 2', 'OWT 3', 'OWT 4', 'OWT 5', 'OWT 6', 'OWT 7', 'OWT 8']:\n",
    "    \n",
    "    subset = msi_svmc_predicted[msi_svmc_predicted['msi_predicted'] == x]\n",
    "    quantitle_5 = np.round(subset.quantile(0.05)[x], 2)\n",
    "    print(x+' :', quantitle_5)"
   ]
  }
 ],
 "metadata": {
  "hide_input": false,
  "kernelspec": {
   "display_name": "Aquaspec",
   "language": "python",
   "name": "aquaspec"
  },
  "language_info": {
   "codemirror_mode": {
    "name": "ipython",
    "version": 3
   },
   "file_extension": ".py",
   "mimetype": "text/x-python",
   "name": "python",
   "nbconvert_exporter": "python",
   "pygments_lexer": "ipython3",
   "version": "3.7.0"
  },
  "toc": {
   "base_numbering": 1,
   "nav_menu": {},
   "number_sections": false,
   "sideBar": true,
   "skip_h1_title": false,
   "title_cell": "Table of Contents",
   "title_sidebar": "Contents",
   "toc_cell": true,
   "toc_position": {},
   "toc_section_display": true,
   "toc_window_display": true
  },
  "varInspector": {
   "cols": {
    "lenName": 16,
    "lenType": 16,
    "lenVar": 40
   },
   "kernels_config": {
    "python": {
     "delete_cmd_postfix": "",
     "delete_cmd_prefix": "del ",
     "library": "var_list.py",
     "varRefreshCmd": "print(var_dic_list())"
    },
    "r": {
     "delete_cmd_postfix": ") ",
     "delete_cmd_prefix": "rm(",
     "library": "var_list.r",
     "varRefreshCmd": "cat(var_dic_list()) "
    }
   },
   "types_to_exclude": [
    "module",
    "function",
    "builtin_function_or_method",
    "instance",
    "_Feature"
   ],
   "window_display": false
  }
 },
 "nbformat": 4,
 "nbformat_minor": 4
}
