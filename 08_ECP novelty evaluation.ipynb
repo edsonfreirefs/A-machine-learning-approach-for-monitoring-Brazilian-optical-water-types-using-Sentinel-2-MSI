{
 "cells": [
  {
   "cell_type": "markdown",
   "metadata": {},
   "source": [
    "# 1 Introduction\n",
    "<br>\n",
    "This notebook extracts the values of points in novelty areas from the ECP classified image|."
   ]
  },
  {
   "cell_type": "markdown",
   "metadata": {},
   "source": [
    "# 2 Functions"
   ]
  },
  {
   "cell_type": "code",
   "execution_count": 1,
   "metadata": {},
   "outputs": [],
   "source": [
    "# library used\n",
    "from osgeo import gdal\n",
    "from osgeo.gdalconst import *\n",
    "import os\n",
    "def image_to_arrays(image):\n",
    "    '''\n",
    "    This function read the output image from atmopheric correction and deglint, which\n",
    "    have the following structure bands:\n",
    "    0: B2\n",
    "    1: B3\n",
    "    2: B4\n",
    "    3: B5\n",
    "    4: B6\n",
    "    Then, it returns the arrays of all bands.\n",
    "    -----------------------\n",
    "    image(str): image path\n",
    "    -----------------------\n",
    "    return: the five bands necessary for the OWT classification.\n",
    "\n",
    "    '''\n",
    "    \n",
    "    # abre a imagem\n",
    "    image =  gdal.Open(image, GA_ReadOnly)\n",
    "    # abre as bandas\n",
    "    bandas = image.ReadAsArray()\n",
    "\n",
    "    # seleciona cada banda\n",
    "    b2 = bandas[0]\n",
    "    b3 = bandas[1]\n",
    "    b4 = bandas[2]\n",
    "    b5 = bandas[3]\n",
    "    b6 = bandas[4]\n",
    "\n",
    "\n",
    "    return b2, b3, b4, b5, b6\n",
    "\n",
    "def array_to_image(img, i, path, geotransform, projection):\n",
    "    '''\n",
    "    This function convert a array to tiff\n",
    "    -----------------------------\n",
    "    img (np.array): an image array.\n",
    "    i (str): image name.\n",
    "    path: path for saving the tiff image.\n",
    "    geotransform: Geotransform for saving the image (e.g.: image.GetGeoTransform()).\n",
    "    projection: Projection for saving the image (e.g.: image.GetProjection())\n",
    "    '''   \n",
    "    # save results\n",
    "    # set image dimensions\n",
    "    image_size = img.shape\n",
    "    nx = image_size[0]\n",
    "    ny = image_size[1]\n",
    "\n",
    "    # create the classified raster file\n",
    "    dst_ds = gdal.GetDriverByName('GTiff').Create(path+i, ny, nx, 1, gdal.GDT_Int16)\n",
    "\n",
    "    dst_ds.SetGeoTransform(geotransform)    # specify coords\n",
    "    dst_ds.SetProjection(projection) # export coords to file       \n",
    "    dst_ds.GetRasterBand(1).WriteArray(img)   # write r-band to the raster\n",
    "    dst_ds.GetRasterBand(1).SetNoDataValue(0) \n",
    "    dst_ds.FlushCache()                     # write to disk\n"
   ]
  },
  {
   "cell_type": "markdown",
   "metadata": {},
   "source": [
    "# 3 Split the multi-band raster into 5 rasters\n",
    "<br>\n",
    "This process is needed for using the package 'rasterstats'"
   ]
  },
  {
   "cell_type": "code",
   "execution_count": 2,
   "metadata": {},
   "outputs": [],
   "source": [
    "# read bands\n",
    "path = '00_Database/03_Images/02_ECP/'\n",
    "img = 'T22JGS_20190724T132241B2B3B4B5b6.tif'\n",
    "b2, b3, b4, b5, b6 = image_to_arrays(path+img)\n",
    "\n",
    "# read geotransform and projection\n",
    "\n",
    "img_ref = gdal.Open(path+img, GA_ReadOnly)\n",
    "geotransform = img_ref.GetGeoTransform()\n",
    "proj = img_ref.GetProjection()\n",
    "\n",
    "# save bands\n",
    "array_to_image(b2,\n",
    "               'ecp_b2.tif',\n",
    "               path,\n",
    "               geotransform,\n",
    "               proj)\n",
    "\n",
    "array_to_image(b3,\n",
    "               'ecp_b3.tif',\n",
    "               path,\n",
    "               geotransform,\n",
    "               proj)\n",
    "\n",
    "array_to_image(b4,\n",
    "               'ecp_b4.tif',\n",
    "               path,\n",
    "               geotransform,\n",
    "               proj)\n",
    "\n",
    "array_to_image(b5,\n",
    "               'ecp_b5.tif',\n",
    "               path,\n",
    "               geotransform,\n",
    "               proj)\n",
    "\n",
    "array_to_image(b6,\n",
    "               'ecp_b6.tif',\n",
    "               path,\n",
    "               geotransform,\n",
    "               proj)"
   ]
  },
  {
   "cell_type": "markdown",
   "metadata": {},
   "source": [
    "# 4 Extract values"
   ]
  },
  {
   "cell_type": "code",
   "execution_count": 3,
   "metadata": {},
   "outputs": [],
   "source": [
    "# library used\n",
    "from rasterstats import point_query\n",
    "\n",
    "# extract novelty values\n",
    "novelty_pixel_values = {}\n",
    "for x in ['ecp_b2.tif', 'ecp_b3.tif', 'ecp_b4.tif', 'ecp_b5.tif', 'ecp_b6.tif']:\n",
    "    \n",
    "    ext_points = '00_Database/04_Masks/01_ECP/ecp_novelty_samples.shp'\n",
    "    img = '00_Database/03_Images/02_ECP/'+x\n",
    "    values = point_query(ext_points, img)\n",
    "    band_name = x.split('_')[1].split('.')[0]\n",
    "    novelty_pixel_values[band_name] = values\n",
    "    "
   ]
  },
  {
   "cell_type": "markdown",
   "metadata": {},
   "source": [
    "# 5 Data processing and access to OWT1 reference samples"
   ]
  },
  {
   "cell_type": "code",
   "execution_count": 4,
   "metadata": {},
   "outputs": [],
   "source": [
    "# library used\n",
    "import pandas as pd\n",
    "import numpy as np\n",
    "\n",
    "# create dataframes\n",
    "novelty_pixel_values = pd.DataFrame(novelty_pixel_values)\n",
    "novelty_pixel_values.columns = [492, 560, 665, 704, 741]\n",
    "\n",
    "# owt 1 in situ samples used for trainning the classification algorithm\n",
    "insitu_db = pd.read_csv('00_Database/01_Tables/insitu_db.csv', index_col=0)\n",
    "owt1_insitu_reference_samples = insitu_db[['OWTs', 'B2', 'B3', 'B4', 'B5','B6']]\n",
    "owt1_insitu_reference_samples = owt1_insitu_reference_samples[owt1_insitu_reference_samples['OWTs'] == 'OWT 1']\n",
    "owt1_insitu_reference_samples = owt1_insitu_reference_samples.drop('OWTs', axis=1)\n",
    "owt1_insitu_reference_samples.columns = [492, 560, 665, 704, 741]\n",
    "\n",
    "#normalize to Rrs (norm)\n",
    "novelty_pixel_values = novelty_pixel_values.divide(novelty_pixel_values.sum(axis=1), axis=0)\n",
    "owt1_insitu_reference_samples = owt1_insitu_reference_samples.divide(owt1_insitu_reference_samples.sum(axis=1), axis=0)\n",
    "\n",
    "# data manipulation for ploting using seaborn\n",
    "owt1_insitu_reference_samples['Source'] = 'OWT 1 field reference'\n",
    "novelty_pixel_values['Source'] = 'Extraction points'\n",
    "dataset = owt1_insitu_reference_samples.append(novelty_pixel_values)\n",
    "newdataset492 = dataset.loc[:,[492, 'Source']]\n",
    "newdataset492['Wavelength'] = 492\n",
    "\n",
    "newdataset560 = dataset.loc[:,[560, 'Source']]\n",
    "newdataset560['Wavelength'] = 560\n",
    "\n",
    "newdataset665 = dataset.loc[:,[665, 'Source']]\n",
    "newdataset665['Wavelength'] = 665\n",
    "\n",
    "newdataset704 = dataset.loc[:,[704, 'Source']]\n",
    "newdataset704['Wavelength'] = 704\n",
    "\n",
    "newdataset741 = dataset.loc[:,[741, 'Source']]\n",
    "newdataset741['Wavelength'] = 741\n",
    "\n",
    "dataset = np.concatenate((newdataset492.values, newdataset560.values, newdataset665.values, newdataset704.values, newdataset741.values))\n",
    "dataset = pd.DataFrame(dataset, columns=['Rrs', 'Source', 'Wavelength'])\n",
    "dataset['Rrs'] = pd.to_numeric(dataset['Rrs'])\n",
    "dataset['Wavelength'] = pd.to_numeric(dataset['Wavelength'])\n"
   ]
  },
  {
   "cell_type": "markdown",
   "metadata": {},
   "source": [
    "# 6 Graphics"
   ]
  },
  {
   "cell_type": "code",
   "execution_count": 5,
   "metadata": {},
   "outputs": [
    {
     "data": {
      "image/png": "[encoded data removed]",
      "text/plain": [
       "<Figure size 331.2x180 with 1 Axes>"
      ]
     },
     "metadata": {
      "needs_background": "light"
     },
     "output_type": "display_data"
    }
   ],
   "source": [
    "# library used\n",
    "import matplotlib.pyplot as plt\n",
    "import seaborn as sns\n",
    "\n",
    "# plot\n",
    "fig = plt.figure(figsize=(4.6,2.5))\n",
    "ax = plt.subplot(1, 1, 1)\n",
    "\n",
    "sns.lineplot(x='Wavelength',\n",
    "             y='Rrs',\n",
    "             hue='Source',\n",
    "             data=dataset,\n",
    "             palette=['black', 'blue'],\n",
    "             ci='sd',\n",
    "             ax=ax)\n",
    "\n",
    "plt.ylim(0,0.5)\n",
    "plt.ylabel('Bn (norm)', fontsize=10)\n",
    "plt.xlabel('Wavelength (nm)')\n",
    "ax.legend()\n",
    "ax.legend(labels=['OWT 1 field reference','Extracted points'])\n",
    "plt.tight_layout()"
   ]
  },
  {
   "cell_type": "code",
   "execution_count": 6,
   "metadata": {},
   "outputs": [],
   "source": [
    "fig.savefig('00_Database/00_Figures/ECP_extracted_values.png', dpi=300)"
   ]
  },
  {
   "cell_type": "code",
   "execution_count": null,
   "metadata": {},
   "outputs": [],
   "source": []
  }
 ],
 "metadata": {
  "kernelspec": {
   "display_name": "Python 3",
   "language": "python",
   "name": "python3"
  },
  "language_info": {
   "codemirror_mode": {
    "name": "ipython",
    "version": 3
   },
   "file_extension": ".py",
   "mimetype": "text/x-python",
   "name": "python",
   "nbconvert_exporter": "python",
   "pygments_lexer": "ipython3",
   "version": "3.7.6"
  },
  "toc": {
   "base_numbering": 1,
   "nav_menu": {},
   "number_sections": false,
   "sideBar": true,
   "skip_h1_title": false,
   "title_cell": "Table of Contents",
   "title_sidebar": "Contents",
   "toc_cell": false,
   "toc_position": {},
   "toc_section_display": true,
   "toc_window_display": true
  }
 },
 "nbformat": 4,
 "nbformat_minor": 4
}
