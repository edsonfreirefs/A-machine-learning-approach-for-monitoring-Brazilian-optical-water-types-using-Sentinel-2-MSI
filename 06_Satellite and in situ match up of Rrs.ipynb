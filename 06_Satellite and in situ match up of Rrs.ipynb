{
 "cells": [
  {
   "cell_type": "markdown",
   "metadata": {
    "toc": true
   },
   "source": [
    "<h1>Table of Contents<span class=\"tocSkip\"></span></h1>\n",
    "<div class=\"toc\"><ul class=\"toc-item\"><li><span><a href=\"#1-Introduction\" data-toc-modified-id=\"1-Introduction-1\">1 Introduction</a></span></li><li><span><a href=\"#2-Data-Access\" data-toc-modified-id=\"2-Data-Access-2\">2 Data Access</a></span></li><li><span><a href=\"#3-Extract-pixel-values\" data-toc-modified-id=\"3-Extract-pixel-values-3\">3 Extract pixel values</a></span></li><li><span><a href=\"#4-Pos-processing\" data-toc-modified-id=\"4-Pos-processing-4\">4 Pos-processing</a></span></li><li><span><a href=\"#5-Match-up-analysis\" data-toc-modified-id=\"5-Match-up-analysis-5\">5 Match-up analysis</a></span><ul class=\"toc-item\"><li><span><a href=\"#5.1-Statistics\" data-toc-modified-id=\"5.1-Statistics-5.1\">5.1 Statistics</a></span></li><li><span><a href=\"#5.2-Graphical-analysis\" data-toc-modified-id=\"5.2-Graphical-analysis-5.2\">5.2 Graphical analysis</a></span></li></ul></li><li><span><a href=\"#6-Classification-performance-in-satellite-images\" data-toc-modified-id=\"6-Classification-performance-in-satellite-images-6\">6 Classification performance in satellite images</a></span><ul class=\"toc-item\"><li><span><a href=\"#6.1-In-situ-e-satellite-match-up\" data-toc-modified-id=\"6.1-In-situ-e-satellite-match-up-6.1\">6.1 In situ e satellite match-up</a></span></li><li><span><a href=\"#6.2-In-situ-data-with-noise-added\" data-toc-modified-id=\"6.2-In-situ-data-with-noise-added-6.2\">6.2 In situ data with noise added</a></span></li></ul></li></ul></div>"
   ]
  },
  {
   "cell_type": "markdown",
   "metadata": {},
   "source": [
    "# 1 Introduction\n",
    "<br>\n",
    " The remote sensing reflectance (Rrs) was measured in situ in several sites and used as the ground truth. Sentinel-2 MSI images was obtained in the same sites of those measurements, which were atmospherically corrected using the AtmosPY software, based on 6SV transfer radiative model. Then, the Satellite MSI Rrs is compared with the in situ Rrs for evaluating its uncertainties of estimating Rrs. Measurements with a maximum of 1 day of difference between in situ e Sentinel-2 MSI was used for comparison."
   ]
  },
  {
   "cell_type": "markdown",
   "metadata": {},
   "source": [
    "# 2 Data Access"
   ]
  },
  {
   "cell_type": "code",
   "execution_count": 1,
   "metadata": {},
   "outputs": [],
   "source": [
    "# library used\n",
    "import pandas as pd\n",
    "import datetime as dt\n",
    "import pickle\n",
    "\n",
    "# read data\n",
    "insitu_db = pd.read_csv('00_Database/01_Tables/insitu_db.csv', index_col=0)[['date',\n",
    "                                                                             'latitude',\n",
    "                                                                             'longitude',\n",
    "                                                                             'OWTs',\n",
    "                                                                             'B2', 'B3', 'B4', 'B5','B6']].dropna()\n",
    "\n",
    "# change the format of date column\n",
    "insitu_db['date'] = [dt.date(int(x.split('-')[0]),\n",
    "                             int(x.split('-')[1]),\n",
    "                             int(x.split('-')[2])) for x in  insitu_db['date']]\n",
    "\n",
    "# define the input data for classification test\n",
    "msi = insitu_db[['B2', 'B3', 'B4', 'B5','B6']]\n",
    "owts = insitu_db[['OWTs']]\n",
    "owts_shape = owts.applymap(lambda x: x.replace('OWT 6', 'change').\n",
    "              replace('OWT 7', 'change').\n",
    "              replace('OWT 8', 'change').\n",
    "              replace('change', 'OWT 678'))\n",
    "\n",
    "test_ids = pd.read_csv('00_Database/02_Algorithms/test_ids.csv')['id']\n",
    "\n",
    "# read classification algorithm\n",
    "msi_svmc_alg = open('00_Database/02_Algorithms/msi_svmc_owts_alldataset.obj', 'rb') \n",
    "msi_svmc_alg = pickle.load(msi_svmc_alg)\n",
    "msi_svmc_shape = msi_svmc_alg[0]\n",
    "msi_svmc_678 = msi_svmc_alg[1]"
   ]
  },
  {
   "cell_type": "code",
   "execution_count": 2,
   "metadata": {},
   "outputs": [
    {
     "data": {
      "text/html": [
       "<div>\n",
       "<style scoped>\n",
       "    .dataframe tbody tr th:only-of-type {\n",
       "        vertical-align: middle;\n",
       "    }\n",
       "\n",
       "    .dataframe tbody tr th {\n",
       "        vertical-align: top;\n",
       "    }\n",
       "\n",
       "    .dataframe thead th {\n",
       "        text-align: right;\n",
       "    }\n",
       "</style>\n",
       "<table border=\"1\" class=\"dataframe\">\n",
       "  <thead>\n",
       "    <tr style=\"text-align: right;\">\n",
       "      <th></th>\n",
       "      <th>date</th>\n",
       "      <th>latitude</th>\n",
       "      <th>longitude</th>\n",
       "      <th>OWTs</th>\n",
       "      <th>B2</th>\n",
       "      <th>B3</th>\n",
       "      <th>B4</th>\n",
       "      <th>B5</th>\n",
       "      <th>B6</th>\n",
       "    </tr>\n",
       "  </thead>\n",
       "  <tbody>\n",
       "    <tr>\n",
       "      <th>0</th>\n",
       "      <td>2017-08-11</td>\n",
       "      <td>-2.06404</td>\n",
       "      <td>-55.4821</td>\n",
       "      <td>OWT 7</td>\n",
       "      <td>0.009979</td>\n",
       "      <td>0.016585</td>\n",
       "      <td>0.018798</td>\n",
       "      <td>0.016852</td>\n",
       "      <td>0.005857</td>\n",
       "    </tr>\n",
       "    <tr>\n",
       "      <th>1</th>\n",
       "      <td>2017-08-09</td>\n",
       "      <td>-2.27067</td>\n",
       "      <td>-55.4513</td>\n",
       "      <td>OWT 3</td>\n",
       "      <td>0.007854</td>\n",
       "      <td>0.014481</td>\n",
       "      <td>0.009707</td>\n",
       "      <td>0.013666</td>\n",
       "      <td>0.004066</td>\n",
       "    </tr>\n",
       "    <tr>\n",
       "      <th>2</th>\n",
       "      <td>2017-08-09</td>\n",
       "      <td>-2.26135</td>\n",
       "      <td>-55.3773</td>\n",
       "      <td>OWT 3</td>\n",
       "      <td>0.007792</td>\n",
       "      <td>0.013910</td>\n",
       "      <td>0.011931</td>\n",
       "      <td>0.011567</td>\n",
       "      <td>0.003631</td>\n",
       "    </tr>\n",
       "  </tbody>\n",
       "</table>\n",
       "</div>"
      ],
      "text/plain": [
       "         date  latitude  longitude   OWTs        B2        B3        B4  \\\n",
       "0  2017-08-11  -2.06404   -55.4821  OWT 7  0.009979  0.016585  0.018798   \n",
       "1  2017-08-09  -2.27067   -55.4513  OWT 3  0.007854  0.014481  0.009707   \n",
       "2  2017-08-09  -2.26135   -55.3773  OWT 3  0.007792  0.013910  0.011931   \n",
       "\n",
       "         B5        B6  \n",
       "0  0.016852  0.005857  \n",
       "1  0.013666  0.004066  \n",
       "2  0.011567  0.003631  "
      ]
     },
     "execution_count": 2,
     "metadata": {},
     "output_type": "execute_result"
    }
   ],
   "source": [
    "insitu_db.head(3)"
   ]
  },
  {
   "cell_type": "code",
   "execution_count": 3,
   "metadata": {},
   "outputs": [
    {
     "data": {
      "text/plain": [
       "[SVC(C=1, break_ties=False, cache_size=200, class_weight='balanced', coef0=0.0,\n",
       "     decision_function_shape='ovo', degree=3, gamma='scale', kernel='rbf',\n",
       "     max_iter=-1, probability=True, random_state=None, shrinking=True, tol=0.001,\n",
       "     verbose=False),\n",
       " SVC(C=1, break_ties=False, cache_size=200, class_weight='balanced', coef0=0.0,\n",
       "     decision_function_shape='ovo', degree=3, gamma='scale', kernel='rbf',\n",
       "     max_iter=-1, probability=True, random_state=None, shrinking=True, tol=0.001,\n",
       "     verbose=False)]"
      ]
     },
     "execution_count": 3,
     "metadata": {},
     "output_type": "execute_result"
    }
   ],
   "source": [
    "msi_svmc_alg"
   ]
  },
  {
   "cell_type": "markdown",
   "metadata": {},
   "source": [
    "# 3 Extract pixel values\n",
    "<br>\n",
    "The extraction is done by a 3x3 pixel window, where the median is computed for comparing to in situ data"
   ]
  },
  {
   "cell_type": "code",
   "execution_count": 4,
   "metadata": {},
   "outputs": [
    {
     "name": "stdout",
     "output_type": "stream",
     "text": [
      "Image with match-up:  T21MXT_20170813T141259B2B3B4B5b6.tif\n",
      "Image with match-up:  T22KGA_20180813T132229B2B3B4B5b6.tif\n",
      "Image with match-up:  T21MYT_20170810T140049B2B3B4B5b6.tif\n",
      "Image with match-up:  T22KFA_20180813T132229B2B3B4B5b6.tif\n",
      "Image with match-up:  T21MZT_20170815T140051B2B3B4B5b6.tif\n",
      "Image with match-up:  T21MYT_20170813T141259B2B3B4B5b6.tif\n",
      "Image with match-up:  T21MYT_20170818T141301B2B3B4B5b6.tif\n",
      "Image with match-up:  T20MKB_20170827T143751B2B3B4B5b6.tif\n",
      "Image with match-up:  T21MYT_20170815T140051B2B3B4B5b6.tif\n",
      "Image with match-up:  T21MYS_20170818T141301B2B3B4B5b6.tif\n",
      "Image with match-up:  T21MXT_20170808T141051B2B3B4B5b6.tif\n"
     ]
    }
   ],
   "source": [
    "# library used\n",
    "import os\n",
    "import numpy as np\n",
    "from osgeo import gdal\n",
    "from osgeo.gdalconst import *\n",
    "from osgeo import osr\n",
    "from pyproj import Proj, transform\n",
    "\n",
    "# ignore warnings\n",
    "import warnings\n",
    "warnings.filterwarnings(\"ignore\")\n",
    "\n",
    "#_______data input_____________\n",
    "# path with all images\n",
    "os.chdir('00_Database/03_Images/01_Match_ups/')\n",
    "\n",
    "# The maximum time difference for comparison\n",
    "dbuffer = dt.timedelta(days=1)\n",
    "\n",
    "#______end of data input________\n",
    "\n",
    "# create table for saving the match-ups\n",
    "result = pd.DataFrame()\n",
    "\n",
    "# interaction of all available image\n",
    "for imageid in os.listdir():\n",
    "\n",
    "    try:\n",
    "\n",
    "        # dictionary for saving the extracted pixel values\n",
    "        extractedvalues = {}\n",
    "        \n",
    "        # image id\n",
    "        if imageid[0] == 'T':\n",
    "            \n",
    "            tileid = imageid.split('_')[0]\n",
    "            timeid = imageid.split('_')[1]\n",
    "            \n",
    "        else:\n",
    "            \n",
    "            tileid = imageid.split('_')[9].split('B2B3B4B5b6')[0]\n",
    "            timeid = imageid.split('_')[7]\n",
    "            \n",
    "        # image date\n",
    "        imagedate = timeid.split('T')[0]\n",
    "        imageyear = int(imagedate[0:4])\n",
    "        imagemonth = int(imagedate[4:6])\n",
    "        imageday = int(imagedate[6:8])\n",
    "        imagedate = dt.date(imageyear, imagemonth, imageday)\n",
    "\n",
    "        # date interval for searching in situ data\n",
    "        dmin = (imagedate - dbuffer)\n",
    "        dmax = (imagedate + dbuffer)\n",
    "        \n",
    "        # in situ ids in the date interval\n",
    "        idsabovemin = insitu_db[insitu_db['date'] >= dmin]\n",
    "        fieldids = idsabovemin[idsabovemin['date'] <= dmax]\n",
    "        \n",
    "        # read the latitude and longitude of in situ data\n",
    "        fieldlat = fieldids.loc[:,'latitude']\n",
    "        fieldlong = fieldids.loc[:,'longitude']\n",
    "\n",
    "        # open the image using GDAL\n",
    "        image = gdal.Open(imageid, GA_ReadOnly)\n",
    "        \n",
    "        # get the image epsg\n",
    "        epsg = osr.SpatialReference(wkt=image.GetProjection()).GetAttrValue('AUTHORITY',1)\n",
    "        \n",
    "        # get the unit of coordinate system (metre or degree)\n",
    "        unit = osr.SpatialReference(wkt=image.GetProjection()).GetAttrValue('UNIT',0)\n",
    "        \n",
    "        # get the image geotransform\n",
    "        geotransform = image.GetGeoTransform()\n",
    "        \n",
    "        # get the number of rows in the image\n",
    "        nrows = image.RasterYSize\n",
    "        \n",
    "        # get the number of columns in the image\n",
    "        ncols = image.RasterXSize\n",
    "        \n",
    "        # get the initial long and lat\n",
    "        long0 = geotransform[0]\n",
    "        lat0 = geotransform[3]\n",
    "        \n",
    "        # get the pixel col and row sizes\n",
    "        pixelcolsize = geotransform[1]\n",
    "        pixelrowsize = geotransform[5]\n",
    "        \n",
    "        # saves in a dictionary the image bounding box\n",
    "        bbox = {}\n",
    "        bbox['lat0'] = lat0\n",
    "        bbox['long0'] = long0\n",
    "        bbox['latn'] = lat0+(nrows*pixelrowsize)\n",
    "        bbox['longn'] = long0+(ncols*pixelcolsize)\n",
    "\n",
    "        # convert the in situ coordinates system to the image coordinate system\n",
    "        # the in situ coordinate system is the epsg:4326 for all samples\n",
    "        if unit == 'metre':\n",
    "\n",
    "            preserve_units = True\n",
    "        else:\n",
    "\n",
    "            preserve_units = False\n",
    "\n",
    "        outProj = Proj(init='epsg:'+epsg, preserve_units=preserve_units)\n",
    "        inProj = Proj(init='epsg:4326')\n",
    "\n",
    "        newlatlong = {}\n",
    "        \n",
    "        for x in fieldlat.index:\n",
    "\n",
    "            oldlat = fieldlat.loc[x]\n",
    "            oldlong = fieldlong.loc[x]\n",
    "            newlong, newlat = transform(inProj,outProj,oldlong,oldlat)\n",
    "            newlatlong[x] = newlat, newlong\n",
    "        \n",
    "        # extract the row and column number of each sample\n",
    "        pixelsloc = {}\n",
    "        for x in fieldlat.index:\n",
    "\n",
    "            latx = newlatlong[x][0]\n",
    "            longx = newlatlong[x][1]\n",
    "            if latx < bbox['lat0'] and latx > bbox['latn'] and longx > bbox['long0'] and longx < bbox['longn']:\n",
    "                colloc = int((longx - bbox['long0'])/pixelcolsize) \n",
    "                rowloc = int((latx - bbox['lat0'])/pixelrowsize)\n",
    "                pixelsloc[x] = rowloc, colloc\n",
    "                \n",
    "        # read all used bands\n",
    "        satB2 = image.ReadAsArray()[0]\n",
    "        satB3 = image.ReadAsArray()[1]\n",
    "        satB4 = image.ReadAsArray()[2]\n",
    "        satB5 = image.ReadAsArray()[3]\n",
    "        satB6 = image.ReadAsArray()[4]\n",
    "        \n",
    "        # extract the median value of a 3x3 window for each band\n",
    "        windowmedian = {}\n",
    "        for x in fieldlat.index:\n",
    "            \n",
    "            for y in ['satB2', 'satB3', 'satB4', 'satB5', 'satB6']:\n",
    "                \n",
    "                try:\n",
    "\n",
    "                    center11 = eval(y)[pixelsloc[x][0]-1, pixelsloc[x][1]-1]\n",
    "                    center12 = eval(y)[pixelsloc[x][0]-1, pixelsloc[x][1]]\n",
    "                    center13 = eval(y)[pixelsloc[x][0]-1, pixelsloc[x][1]+1]\n",
    "                    center21 = eval(y)[pixelsloc[x][0], pixelsloc[x][1]-1]\n",
    "                    center = eval(y)[pixelsloc[x][0], pixelsloc[x][1]]\n",
    "                    center23 = eval(y)[pixelsloc[x][0], pixelsloc[x][1]+1]\n",
    "                    center31 = eval(y)[pixelsloc[x][0]+1, pixelsloc[x][1]-1]\n",
    "                    center32 = eval(y)[pixelsloc[x][0]+1, pixelsloc[x][1]]\n",
    "                    center33 = eval(y)[pixelsloc[x][0]+1, pixelsloc[x][1]+1]\n",
    "\n",
    "                    window = [center11, center12, center13, center21, center, center23, center31, center32, center33]\n",
    "                    median = np.median(window)\n",
    "                    windowmedian[y, x] = median\n",
    "\n",
    "                except:\n",
    "                    continue\n",
    "                    \n",
    "        # saves the extracted values in a pandas data frame\n",
    "\n",
    "        if len(windowmedian.keys())>0:\n",
    "            \n",
    "            print('Image with match-up: ', imageid)\n",
    "            \n",
    "            for x in windowmedian.keys():\n",
    "\n",
    "                extractedvalues[x[1], tileid, timeid, x[0]] = [x[1],\n",
    "                                                               tileid,\n",
    "                                                               timeid,\n",
    "                                                               x[0],\n",
    "                                                               windowmedian[x]]\n",
    "\n",
    "            extractedvalues = pd.DataFrame(extractedvalues.values(),\n",
    "                                           columns=['id', 'tile', 'time', 'band', 'median'])\n",
    "            \n",
    "            result = result.append(extractedvalues)\n",
    "            \n",
    "    except BaseException as e:\n",
    "        print(f\"Aqui deu erro: \\n{str(e)}\")\n"
   ]
  },
  {
   "cell_type": "markdown",
   "metadata": {},
   "source": [
    "# 4 Pos-processing\n",
    "<br>\n",
    "Some match-ups may occur in clouds (0 values), in sites with adjacent effects (negative values), and with glint effects poorly removed. This pos-processing removes those match-ups and two outliers with no apparent inconsistency found. Moreover, the satellite Rrs is scaled by dividing it to 10000."
   ]
  },
  {
   "cell_type": "code",
   "execution_count": 5,
   "metadata": {},
   "outputs": [],
   "source": [
    "# create a match data frame\n",
    "output = pd.DataFrame ()\n",
    "\n",
    "for x in ['satB2', 'satB3', 'satB4', 'satB5', 'satB6']:\n",
    "    \n",
    "    subset = result[result['band'] == x][['id', 'median']]\n",
    "    subset.columns = ['id', x]\n",
    "    output = output.append(subset)\n",
    "output = output.groupby('id').median()\n",
    "\n",
    "match = output.join(insitu_db)"
   ]
  },
  {
   "cell_type": "code",
   "execution_count": 6,
   "metadata": {},
   "outputs": [],
   "source": [
    "# removes negative and 0 values\n",
    "match = match[match['satB2']>0]"
   ]
  },
  {
   "cell_type": "code",
   "execution_count": 7,
   "metadata": {},
   "outputs": [],
   "source": [
    "# tag outlier values\n",
    "\n",
    "outlier = {}\n",
    "outlier[26] = 'High glint'\n",
    "outlier[25] = 'High glint'\n",
    "outlier[1] = 'Inconsistency not found'\n",
    "outlier[264] = 'Adjacency effect'\n",
    "outlier[2] = 'Inconsistency not found'\n",
    "outlier[24] = 'Noisy image'\n",
    "outlier[8] = 'Adjacent to clouds'\n",
    "outlier[274] = 'Adjacency effect'\n",
    "outlier[273] = 'Adjacency effect'\n",
    "outlier[272] = 'Adjacency effect'\n",
    "outlier[262] = 'Adjacency effect'\n",
    "# remove outliers\n",
    "match = match.drop(outlier.keys())"
   ]
  },
  {
   "cell_type": "code",
   "execution_count": 8,
   "metadata": {},
   "outputs": [],
   "source": [
    "# scaled the satellite data\n",
    "match[['satB2', 'satB3', 'satB4', 'satB5', 'satB6']] = match[['satB2', 'satB3', 'satB4', 'satB5', 'satB6']] / 10000"
   ]
  },
  {
   "cell_type": "code",
   "execution_count": 10,
   "metadata": {},
   "outputs": [
    {
     "data": {
      "text/html": [
       "<div>\n",
       "<style scoped>\n",
       "    .dataframe tbody tr th:only-of-type {\n",
       "        vertical-align: middle;\n",
       "    }\n",
       "\n",
       "    .dataframe tbody tr th {\n",
       "        vertical-align: top;\n",
       "    }\n",
       "\n",
       "    .dataframe thead th {\n",
       "        text-align: right;\n",
       "    }\n",
       "</style>\n",
       "<table border=\"1\" class=\"dataframe\">\n",
       "  <thead>\n",
       "    <tr style=\"text-align: right;\">\n",
       "      <th></th>\n",
       "      <th>satB2</th>\n",
       "      <th>satB3</th>\n",
       "      <th>satB4</th>\n",
       "      <th>satB5</th>\n",
       "      <th>satB6</th>\n",
       "      <th>date</th>\n",
       "      <th>latitude</th>\n",
       "      <th>longitude</th>\n",
       "      <th>OWTs</th>\n",
       "      <th>B2</th>\n",
       "      <th>B3</th>\n",
       "      <th>B4</th>\n",
       "      <th>B5</th>\n",
       "      <th>B6</th>\n",
       "    </tr>\n",
       "    <tr>\n",
       "      <th>id</th>\n",
       "      <th></th>\n",
       "      <th></th>\n",
       "      <th></th>\n",
       "      <th></th>\n",
       "      <th></th>\n",
       "      <th></th>\n",
       "      <th></th>\n",
       "      <th></th>\n",
       "      <th></th>\n",
       "      <th></th>\n",
       "      <th></th>\n",
       "      <th></th>\n",
       "      <th></th>\n",
       "      <th></th>\n",
       "    </tr>\n",
       "  </thead>\n",
       "  <tbody>\n",
       "    <tr>\n",
       "      <th>6</th>\n",
       "      <td>0.00970</td>\n",
       "      <td>0.01900</td>\n",
       "      <td>0.0157</td>\n",
       "      <td>0.01790</td>\n",
       "      <td>0.00750</td>\n",
       "      <td>2017-08-12</td>\n",
       "      <td>-2.13744</td>\n",
       "      <td>-55.4869</td>\n",
       "      <td>OWT 3</td>\n",
       "      <td>0.009901</td>\n",
       "      <td>0.017612</td>\n",
       "      <td>0.016877</td>\n",
       "      <td>0.017380</td>\n",
       "      <td>0.006108</td>\n",
       "    </tr>\n",
       "    <tr>\n",
       "      <th>7</th>\n",
       "      <td>0.01330</td>\n",
       "      <td>0.02180</td>\n",
       "      <td>0.0180</td>\n",
       "      <td>0.02100</td>\n",
       "      <td>0.00930</td>\n",
       "      <td>2017-08-12</td>\n",
       "      <td>-2.11493</td>\n",
       "      <td>-55.4322</td>\n",
       "      <td>OWT 3</td>\n",
       "      <td>0.010950</td>\n",
       "      <td>0.019092</td>\n",
       "      <td>0.018019</td>\n",
       "      <td>0.018993</td>\n",
       "      <td>0.006981</td>\n",
       "    </tr>\n",
       "    <tr>\n",
       "      <th>14</th>\n",
       "      <td>0.00820</td>\n",
       "      <td>0.01230</td>\n",
       "      <td>0.0115</td>\n",
       "      <td>0.01000</td>\n",
       "      <td>0.00580</td>\n",
       "      <td>2017-08-09</td>\n",
       "      <td>-2.23914</td>\n",
       "      <td>-55.4971</td>\n",
       "      <td>OWT 3</td>\n",
       "      <td>0.008545</td>\n",
       "      <td>0.015200</td>\n",
       "      <td>0.010824</td>\n",
       "      <td>0.014561</td>\n",
       "      <td>0.005184</td>\n",
       "    </tr>\n",
       "    <tr>\n",
       "      <th>16</th>\n",
       "      <td>0.01310</td>\n",
       "      <td>0.02050</td>\n",
       "      <td>0.0263</td>\n",
       "      <td>0.02400</td>\n",
       "      <td>0.01130</td>\n",
       "      <td>2017-08-15</td>\n",
       "      <td>-2.30727</td>\n",
       "      <td>-54.4228</td>\n",
       "      <td>OWT 7</td>\n",
       "      <td>0.011355</td>\n",
       "      <td>0.019556</td>\n",
       "      <td>0.026049</td>\n",
       "      <td>0.023263</td>\n",
       "      <td>0.009127</td>\n",
       "    </tr>\n",
       "    <tr>\n",
       "      <th>17</th>\n",
       "      <td>0.01200</td>\n",
       "      <td>0.02020</td>\n",
       "      <td>0.0210</td>\n",
       "      <td>0.02230</td>\n",
       "      <td>0.00980</td>\n",
       "      <td>2017-08-15</td>\n",
       "      <td>-2.22649</td>\n",
       "      <td>-54.3651</td>\n",
       "      <td>OWT 7</td>\n",
       "      <td>0.010469</td>\n",
       "      <td>0.018522</td>\n",
       "      <td>0.022567</td>\n",
       "      <td>0.021037</td>\n",
       "      <td>0.007862</td>\n",
       "    </tr>\n",
       "    <tr>\n",
       "      <th>18</th>\n",
       "      <td>0.01255</td>\n",
       "      <td>0.02075</td>\n",
       "      <td>0.0196</td>\n",
       "      <td>0.02080</td>\n",
       "      <td>0.00925</td>\n",
       "      <td>2017-08-15</td>\n",
       "      <td>-2.22416</td>\n",
       "      <td>-54.2795</td>\n",
       "      <td>OWT 7</td>\n",
       "      <td>0.009647</td>\n",
       "      <td>0.017582</td>\n",
       "      <td>0.018035</td>\n",
       "      <td>0.018428</td>\n",
       "      <td>0.006843</td>\n",
       "    </tr>\n",
       "    <tr>\n",
       "      <th>19</th>\n",
       "      <td>0.01325</td>\n",
       "      <td>0.02045</td>\n",
       "      <td>0.0173</td>\n",
       "      <td>0.01955</td>\n",
       "      <td>0.00895</td>\n",
       "      <td>2017-08-15</td>\n",
       "      <td>-2.17863</td>\n",
       "      <td>-54.2197</td>\n",
       "      <td>OWT 3</td>\n",
       "      <td>0.010559</td>\n",
       "      <td>0.018632</td>\n",
       "      <td>0.016690</td>\n",
       "      <td>0.018058</td>\n",
       "      <td>0.006764</td>\n",
       "    </tr>\n",
       "    <tr>\n",
       "      <th>20</th>\n",
       "      <td>0.01720</td>\n",
       "      <td>0.02590</td>\n",
       "      <td>0.0303</td>\n",
       "      <td>0.02830</td>\n",
       "      <td>0.01360</td>\n",
       "      <td>2017-08-14</td>\n",
       "      <td>-2.30276</td>\n",
       "      <td>-54.1422</td>\n",
       "      <td>OWT 8</td>\n",
       "      <td>0.013764</td>\n",
       "      <td>0.022553</td>\n",
       "      <td>0.028270</td>\n",
       "      <td>0.026832</td>\n",
       "      <td>0.011693</td>\n",
       "    </tr>\n",
       "    <tr>\n",
       "      <th>151</th>\n",
       "      <td>0.00730</td>\n",
       "      <td>0.01270</td>\n",
       "      <td>0.0061</td>\n",
       "      <td>0.00830</td>\n",
       "      <td>0.00310</td>\n",
       "      <td>2018-08-12</td>\n",
       "      <td>-21.78430</td>\n",
       "      <td>-48.9627</td>\n",
       "      <td>OWT 4</td>\n",
       "      <td>0.006952</td>\n",
       "      <td>0.013574</td>\n",
       "      <td>0.006548</td>\n",
       "      <td>0.009393</td>\n",
       "      <td>0.003439</td>\n",
       "    </tr>\n",
       "    <tr>\n",
       "      <th>152</th>\n",
       "      <td>0.00535</td>\n",
       "      <td>0.01120</td>\n",
       "      <td>0.0046</td>\n",
       "      <td>0.00790</td>\n",
       "      <td>0.00330</td>\n",
       "      <td>2018-08-12</td>\n",
       "      <td>-21.81390</td>\n",
       "      <td>-49.0032</td>\n",
       "      <td>OWT 4</td>\n",
       "      <td>0.006819</td>\n",
       "      <td>0.012124</td>\n",
       "      <td>0.006199</td>\n",
       "      <td>0.007718</td>\n",
       "      <td>0.002736</td>\n",
       "    </tr>\n",
       "    <tr>\n",
       "      <th>153</th>\n",
       "      <td>0.00730</td>\n",
       "      <td>0.01090</td>\n",
       "      <td>0.0053</td>\n",
       "      <td>0.00620</td>\n",
       "      <td>0.00280</td>\n",
       "      <td>2018-08-13</td>\n",
       "      <td>-21.85070</td>\n",
       "      <td>-48.9407</td>\n",
       "      <td>OWT 4</td>\n",
       "      <td>0.006303</td>\n",
       "      <td>0.012325</td>\n",
       "      <td>0.005860</td>\n",
       "      <td>0.007458</td>\n",
       "      <td>0.002801</td>\n",
       "    </tr>\n",
       "    <tr>\n",
       "      <th>154</th>\n",
       "      <td>0.00610</td>\n",
       "      <td>0.00850</td>\n",
       "      <td>0.0040</td>\n",
       "      <td>0.00410</td>\n",
       "      <td>0.00190</td>\n",
       "      <td>2018-08-12</td>\n",
       "      <td>-21.84480</td>\n",
       "      <td>-48.9655</td>\n",
       "      <td>OWT 4</td>\n",
       "      <td>0.004360</td>\n",
       "      <td>0.008607</td>\n",
       "      <td>0.004318</td>\n",
       "      <td>0.004553</td>\n",
       "      <td>0.001423</td>\n",
       "    </tr>\n",
       "    <tr>\n",
       "      <th>155</th>\n",
       "      <td>0.00670</td>\n",
       "      <td>0.01030</td>\n",
       "      <td>0.0048</td>\n",
       "      <td>0.00560</td>\n",
       "      <td>0.00230</td>\n",
       "      <td>2018-08-13</td>\n",
       "      <td>-21.91030</td>\n",
       "      <td>-48.8918</td>\n",
       "      <td>OWT 4</td>\n",
       "      <td>0.005546</td>\n",
       "      <td>0.010031</td>\n",
       "      <td>0.005111</td>\n",
       "      <td>0.005354</td>\n",
       "      <td>0.001788</td>\n",
       "    </tr>\n",
       "  </tbody>\n",
       "</table>\n",
       "</div>"
      ],
      "text/plain": [
       "       satB2    satB3   satB4    satB5    satB6        date  latitude  \\\n",
       "id                                                                      \n",
       "6    0.00970  0.01900  0.0157  0.01790  0.00750  2017-08-12  -2.13744   \n",
       "7    0.01330  0.02180  0.0180  0.02100  0.00930  2017-08-12  -2.11493   \n",
       "14   0.00820  0.01230  0.0115  0.01000  0.00580  2017-08-09  -2.23914   \n",
       "16   0.01310  0.02050  0.0263  0.02400  0.01130  2017-08-15  -2.30727   \n",
       "17   0.01200  0.02020  0.0210  0.02230  0.00980  2017-08-15  -2.22649   \n",
       "18   0.01255  0.02075  0.0196  0.02080  0.00925  2017-08-15  -2.22416   \n",
       "19   0.01325  0.02045  0.0173  0.01955  0.00895  2017-08-15  -2.17863   \n",
       "20   0.01720  0.02590  0.0303  0.02830  0.01360  2017-08-14  -2.30276   \n",
       "151  0.00730  0.01270  0.0061  0.00830  0.00310  2018-08-12 -21.78430   \n",
       "152  0.00535  0.01120  0.0046  0.00790  0.00330  2018-08-12 -21.81390   \n",
       "153  0.00730  0.01090  0.0053  0.00620  0.00280  2018-08-13 -21.85070   \n",
       "154  0.00610  0.00850  0.0040  0.00410  0.00190  2018-08-12 -21.84480   \n",
       "155  0.00670  0.01030  0.0048  0.00560  0.00230  2018-08-13 -21.91030   \n",
       "\n",
       "     longitude   OWTs        B2        B3        B4        B5        B6  \n",
       "id                                                                       \n",
       "6     -55.4869  OWT 3  0.009901  0.017612  0.016877  0.017380  0.006108  \n",
       "7     -55.4322  OWT 3  0.010950  0.019092  0.018019  0.018993  0.006981  \n",
       "14    -55.4971  OWT 3  0.008545  0.015200  0.010824  0.014561  0.005184  \n",
       "16    -54.4228  OWT 7  0.011355  0.019556  0.026049  0.023263  0.009127  \n",
       "17    -54.3651  OWT 7  0.010469  0.018522  0.022567  0.021037  0.007862  \n",
       "18    -54.2795  OWT 7  0.009647  0.017582  0.018035  0.018428  0.006843  \n",
       "19    -54.2197  OWT 3  0.010559  0.018632  0.016690  0.018058  0.006764  \n",
       "20    -54.1422  OWT 8  0.013764  0.022553  0.028270  0.026832  0.011693  \n",
       "151   -48.9627  OWT 4  0.006952  0.013574  0.006548  0.009393  0.003439  \n",
       "152   -49.0032  OWT 4  0.006819  0.012124  0.006199  0.007718  0.002736  \n",
       "153   -48.9407  OWT 4  0.006303  0.012325  0.005860  0.007458  0.002801  \n",
       "154   -48.9655  OWT 4  0.004360  0.008607  0.004318  0.004553  0.001423  \n",
       "155   -48.8918  OWT 4  0.005546  0.010031  0.005111  0.005354  0.001788  "
      ]
     },
     "execution_count": 10,
     "metadata": {},
     "output_type": "execute_result"
    }
   ],
   "source": [
    "match"
   ]
  },
  {
   "cell_type": "markdown",
   "metadata": {},
   "source": [
    "# 5 Match-up analysis"
   ]
  },
  {
   "cell_type": "markdown",
   "metadata": {},
   "source": [
    "## 5.1 Statistics"
   ]
  },
  {
   "cell_type": "code",
   "execution_count": 11,
   "metadata": {},
   "outputs": [],
   "source": [
    "# bias equation\n",
    "bias = {}\n",
    "\n",
    "for x in range(2,7):\n",
    "\n",
    "    bias['B'+str(x)] = (((match['satB'+str(x)] -  match['B'+str(x)]) / match['B'+str(x)]))\n",
    "\n"
   ]
  },
  {
   "cell_type": "code",
   "execution_count": 12,
   "metadata": {},
   "outputs": [
    {
     "name": "stdout",
     "output_type": "stream",
     "text": [
      "Mean bias\n"
     ]
    },
    {
     "data": {
      "text/plain": [
       "B2    0.14\n",
       "B3    0.03\n",
       "B4   -0.03\n",
       "B5   -0.01\n",
       "B6    0.21\n",
       "dtype: float64"
      ]
     },
     "execution_count": 12,
     "metadata": {},
     "output_type": "execute_result"
    }
   ],
   "source": [
    "# mean bias\n",
    "print('Mean bias')\n",
    "mean_bias = pd.DataFrame(bias).mean().round(2)\n",
    "mean_bias"
   ]
  },
  {
   "cell_type": "code",
   "execution_count": 13,
   "metadata": {},
   "outputs": [
    {
     "name": "stdout",
     "output_type": "stream",
     "text": [
      "Std bias\n"
     ]
    },
    {
     "data": {
      "text/plain": [
       "B2    0.16\n",
       "B3    0.11\n",
       "B4    0.09\n",
       "B5    0.13\n",
       "B6    0.14\n",
       "dtype: float64"
      ]
     },
     "execution_count": 13,
     "metadata": {},
     "output_type": "execute_result"
    }
   ],
   "source": [
    "# std bias\n",
    "print('Std bias')\n",
    "std_bias = pd.DataFrame(bias).std().round(2)\n",
    "std_bias"
   ]
  },
  {
   "cell_type": "code",
   "execution_count": 14,
   "metadata": {},
   "outputs": [
    {
     "name": "stdout",
     "output_type": "stream",
     "text": [
      "Median bias\n"
     ]
    },
    {
     "data": {
      "text/plain": [
       "B2    0.16\n",
       "B3    0.05\n",
       "B4   -0.06\n",
       "B5    0.03\n",
       "B6    0.24\n",
       "dtype: float64"
      ]
     },
     "execution_count": 14,
     "metadata": {},
     "output_type": "execute_result"
    }
   ],
   "source": [
    "# median bias\n",
    "print('Median bias')\n",
    "median_bias = pd.DataFrame(bias).median().round(2)\n",
    "median_bias"
   ]
  },
  {
   "cell_type": "code",
   "execution_count": 15,
   "metadata": {},
   "outputs": [
    {
     "name": "stdout",
     "output_type": "stream",
     "text": [
      "IQR bias\n"
     ]
    },
    {
     "data": {
      "text/plain": [
       "B2    0.20\n",
       "B3    0.16\n",
       "B4    0.11\n",
       "B5    0.16\n",
       "B6    0.16\n",
       "dtype: float64"
      ]
     },
     "execution_count": 15,
     "metadata": {},
     "output_type": "execute_result"
    }
   ],
   "source": [
    "# std bias\n",
    "print('IQR bias')\n",
    "iqr_bias = (pd.DataFrame(bias).quantile(0.75)-pd.DataFrame(bias).quantile(0.25)).round(2)\n",
    "iqr_bias"
   ]
  },
  {
   "cell_type": "code",
   "execution_count": 16,
   "metadata": {},
   "outputs": [
    {
     "name": "stdout",
     "output_type": "stream",
     "text": [
      "MAPE\n"
     ]
    },
    {
     "data": {
      "text/plain": [
       "B2    19.0\n",
       "B3    10.0\n",
       "B4     7.0\n",
       "B5    10.0\n",
       "B6    23.0\n",
       "dtype: float64"
      ]
     },
     "execution_count": 16,
     "metadata": {},
     "output_type": "execute_result"
    }
   ],
   "source": [
    "# MAPE\n",
    "print('MAPE')\n",
    "mape = (abs(pd.DataFrame(bias)).mean()*100).round(0)\n",
    "mape"
   ]
  },
  {
   "cell_type": "code",
   "execution_count": 17,
   "metadata": {},
   "outputs": [
    {
     "name": "stdout",
     "output_type": "stream",
     "text": [
      "R²\n"
     ]
    },
    {
     "data": {
      "text/html": [
       "<div>\n",
       "<style scoped>\n",
       "    .dataframe tbody tr th:only-of-type {\n",
       "        vertical-align: middle;\n",
       "    }\n",
       "\n",
       "    .dataframe tbody tr th {\n",
       "        vertical-align: top;\n",
       "    }\n",
       "\n",
       "    .dataframe thead th {\n",
       "        text-align: right;\n",
       "    }\n",
       "</style>\n",
       "<table border=\"1\" class=\"dataframe\">\n",
       "  <thead>\n",
       "    <tr style=\"text-align: right;\">\n",
       "      <th></th>\n",
       "      <th>R²</th>\n",
       "    </tr>\n",
       "  </thead>\n",
       "  <tbody>\n",
       "    <tr>\n",
       "      <th>B2</th>\n",
       "      <td>0.89</td>\n",
       "    </tr>\n",
       "    <tr>\n",
       "      <th>B3</th>\n",
       "      <td>0.94</td>\n",
       "    </tr>\n",
       "    <tr>\n",
       "      <th>B4</th>\n",
       "      <td>0.99</td>\n",
       "    </tr>\n",
       "    <tr>\n",
       "      <th>B5</th>\n",
       "      <td>0.96</td>\n",
       "    </tr>\n",
       "    <tr>\n",
       "      <th>B6</th>\n",
       "      <td>0.98</td>\n",
       "    </tr>\n",
       "  </tbody>\n",
       "</table>\n",
       "</div>"
      ],
      "text/plain": [
       "      R²\n",
       "B2  0.89\n",
       "B3  0.94\n",
       "B4  0.99\n",
       "B5  0.96\n",
       "B6  0.98"
      ]
     },
     "execution_count": 17,
     "metadata": {},
     "output_type": "execute_result"
    }
   ],
   "source": [
    "r_squared = {}\n",
    "\n",
    "for x in range(2,7):\n",
    "    \n",
    "    r_squared['B'+str(x)] = (match.corrwith(match['B'+str(x)], method='pearson')['satB'+str(x)]**2)\n",
    "    \n",
    "print('R²')\n",
    "pd.DataFrame(r_squared.values(), index=r_squared.keys(), columns=['R²']).round(2)"
   ]
  },
  {
   "cell_type": "code",
   "execution_count": 18,
   "metadata": {},
   "outputs": [
    {
     "data": {
      "text/plain": [
       "{'OWT 3', 'OWT 4', 'OWT 7', 'OWT 8'}"
      ]
     },
     "execution_count": 18,
     "metadata": {},
     "output_type": "execute_result"
    }
   ],
   "source": [
    "set(match['OWTs'])"
   ]
  },
  {
   "cell_type": "markdown",
   "metadata": {},
   "source": [
    "## 5.2 Graphical analysis"
   ]
  },
  {
   "cell_type": "code",
   "execution_count": 19,
   "metadata": {},
   "outputs": [
    {
     "data": {
      "image/png": "[encoded data removed]",
      "text/plain": [
       "<Figure size 720x432 with 5 Axes>"
      ]
     },
     "metadata": {
      "needs_background": "light"
     },
     "output_type": "display_data"
    }
   ],
   "source": [
    "# library used\n",
    "import seaborn as sns\n",
    "import matplotlib.pyplot as plt\n",
    "\n",
    "# plot\n",
    "fig = plt.figure(figsize=(10, 6))\n",
    "\n",
    "i = 1\n",
    "for x, y in zip(range(2,7), ['a', 'b', 'c', 'd', 'e']):\n",
    "    ax = plt.subplot(2,3,i)\n",
    "    \n",
    "    # set de legend only in the B2 graph\n",
    "    if x == 2:\n",
    "        leg = 'full'\n",
    "        \n",
    "    else:\n",
    "        leg = False\n",
    "        \n",
    "    sns.scatterplot(y='satB'+str(x),\n",
    "                    x='B'+str(x),\n",
    "                    hue='OWTs',\n",
    "                    legend=leg,\n",
    "                    hue_order=['OWT 3', 'OWT 4', 'OWT 7', 'OWT 8'],\n",
    "                    data=match,\n",
    "                    color='k',\n",
    "                    ax=ax)\n",
    "    plt.plot([0, 1], color='black', linewidth=0.5)\n",
    "    \n",
    "    plt.ylabel('B'+str(x)+'$_{sat}$ (R$_{rs}$)')\n",
    "    plt.xlabel('B'+str(x)+'$_{field}$ (R$_{rs}$)')\n",
    "\n",
    "    ax.set_ylim(0,0.04)\n",
    "    ax.set_xlim(0,0.04)\n",
    "    \n",
    "    plt.text(0.001, 0.035, y+')', fontsize=16)\n",
    "    plt.text(0.02, 0.01, 'MAPE: '+str(int(mape['B'+str(x)]))+'%')\n",
    "    plt.text(0.02, 0.007, 'R$^{2}$: '+str(np.round(r_squared['B'+str(x)], 2)))\n",
    "    plt.text(0.02, 0.004, 'Mean bias: '+str(np.round(mean_bias['B'+str(x)], 2)))\n",
    "    plt.text(0.02, 0.001, 'SD bias: '+str(np.round(std_bias['B'+str(x)], 2)))\n",
    "    ax.set_yticks([0.0, 0.01, 0.02, 0.03, 0.04])\n",
    "    ax.set_yticklabels([0.00, 0.01, 0.02, 0.03, 0.04])\n",
    "    \n",
    "    if x == 2:\n",
    "        plt.legend(loc='upper right')\n",
    "    \n",
    "    i = i+1\n",
    "    \n",
    "plt.tight_layout(h_pad=0.3, w_pad=0.2)"
   ]
  },
  {
   "cell_type": "code",
   "execution_count": 20,
   "metadata": {},
   "outputs": [],
   "source": [
    "os.chdir('..')\n",
    "os.chdir('..')\n",
    "fig.savefig('00_Figures/match_up.png', dpi=300)"
   ]
  },
  {
   "cell_type": "code",
   "execution_count": 21,
   "metadata": {},
   "outputs": [
    {
     "data": {
      "image/png": "[encoded data removed]",
      "text/plain": [
       "<Figure size 720x720 with 5 Axes>"
      ]
     },
     "metadata": {
      "needs_background": "light"
     },
     "output_type": "display_data"
    }
   ],
   "source": [
    "plt.figure(figsize=(10, 10))\n",
    "i = 1\n",
    "for x in range(2,7):\n",
    "    \n",
    "    band_mean_bias = mean_bias['B'+str(x)]\n",
    "    std_mean_bias = std_bias['B'+str(x)]\n",
    "    ax = plt.subplot(3,2,i)\n",
    "    sns.kdeplot(bias['B'+str(x)], shade=True, ax=ax)\n",
    "    ax.set_title('B'+str(x))\n",
    "    ax.set_xlim(-2,2)\n",
    "    ax.set_ylim(0,4)\n",
    "    plt.plot([0, 0],[0,4], color='black', linewidth=0.5)\n",
    "    ax.text(-1.5,1.2, 'Mean bias: '+str(band_mean_bias))\n",
    "    ax.text(-1.5,0.8, 'Std bias: '+str(std_mean_bias))\n",
    "    i = i+1\n",
    "plt.tight_layout(h_pad=1.5, w_pad=0.5)"
   ]
  },
  {
   "cell_type": "markdown",
   "metadata": {},
   "source": [
    "# 6 Classification performance in satellite images"
   ]
  },
  {
   "cell_type": "markdown",
   "metadata": {},
   "source": [
    "## 6.1 In situ e satellite match-up"
   ]
  },
  {
   "cell_type": "code",
   "execution_count": 22,
   "metadata": {},
   "outputs": [
    {
     "name": "stdout",
     "output_type": "stream",
     "text": [
      "Correct predictions:  8 / 13\n"
     ]
    }
   ],
   "source": [
    "# library used\n",
    "import copy as cp\n",
    "from numpy.random import normal\n",
    "from sklearn.metrics import balanced_accuracy_score\n",
    "\n",
    "# define the test ids\n",
    "test = match.index\n",
    "\n",
    "# defines the true values of the test dataset\n",
    "true = match.loc[test.values,'OWTs']\n",
    "\n",
    "# add noise to bands\n",
    "msi_noise = cp.copy(match[['satB2','satB3', 'satB4', 'satB5', 'satB6']])\n",
    "\n",
    "# chooses the algorithm input\n",
    "msi_norm = msi_noise.divide(msi.sum(axis=1), axis='rows')\n",
    "msi_b3 = msi_noise[['satB3']]\n",
    "\n",
    "# predict the OWTs in the test dataset (shape)\n",
    "msi_svmc_predicted = msi_svmc_shape.predict(msi_norm.loc[test,:].values)\n",
    "msi_svmc_predicted = pd.DataFrame(msi_svmc_predicted,\n",
    "                                  index=test,\n",
    "                                  columns=['msi_predicted'])\n",
    "\n",
    "# predict the OWTs in the test dataset (OWTs 7, 8, and 9)\n",
    "msi_owt678_predicted_id = msi_svmc_predicted[msi_svmc_predicted['msi_predicted'] == 'OWT 678'].index\n",
    "msi_svmc_predicted_678 = msi_svmc_678.predict(msi_b3.loc[msi_owt678_predicted_id,:].values)\n",
    "msi_svmc_predicted_678 = pd.DataFrame(msi_svmc_predicted_678,\n",
    "                                      index=msi_owt678_predicted_id,\n",
    "                                      columns=['msi_predicted'])\n",
    "\n",
    "# concatenate all predicted OWTs\n",
    "msi_svmc_predicted.update(msi_svmc_predicted_678)\n",
    "\n",
    "# creates an evaluation dataset, concatenate predicted OWTs and the true OWTs\n",
    "insitu_sat_msi_evaluation = msi_svmc_predicted.join(true)\n",
    "\n",
    "# computes balanced accuracy, precision, and recall\n",
    "correct_predictions = 0\n",
    "for x in insitu_sat_msi_evaluation.index:\n",
    "    \n",
    "    ground_truth = insitu_sat_msi_evaluation.loc[x, 'OWTs']\n",
    "    prediction = insitu_sat_msi_evaluation.loc[x, 'msi_predicted']\n",
    "    \n",
    "    if prediction == ground_truth:\n",
    "        \n",
    "        correct_predictions = correct_predictions+1\n",
    "\n",
    "print('Correct predictions: ', str(correct_predictions), '/', str(len(insitu_sat_msi_evaluation)))"
   ]
  },
  {
   "cell_type": "code",
   "execution_count": 23,
   "metadata": {},
   "outputs": [
    {
     "data": {
      "text/html": [
       "<div>\n",
       "<style scoped>\n",
       "    .dataframe tbody tr th:only-of-type {\n",
       "        vertical-align: middle;\n",
       "    }\n",
       "\n",
       "    .dataframe tbody tr th {\n",
       "        vertical-align: top;\n",
       "    }\n",
       "\n",
       "    .dataframe thead th {\n",
       "        text-align: right;\n",
       "    }\n",
       "</style>\n",
       "<table border=\"1\" class=\"dataframe\">\n",
       "  <thead>\n",
       "    <tr style=\"text-align: right;\">\n",
       "      <th></th>\n",
       "      <th>msi_predicted</th>\n",
       "      <th>OWTs</th>\n",
       "    </tr>\n",
       "    <tr>\n",
       "      <th>id</th>\n",
       "      <th></th>\n",
       "      <th></th>\n",
       "    </tr>\n",
       "  </thead>\n",
       "  <tbody>\n",
       "    <tr>\n",
       "      <th>6</th>\n",
       "      <td>OWT 3</td>\n",
       "      <td>OWT 3</td>\n",
       "    </tr>\n",
       "    <tr>\n",
       "      <th>7</th>\n",
       "      <td>OWT 3</td>\n",
       "      <td>OWT 3</td>\n",
       "    </tr>\n",
       "    <tr>\n",
       "      <th>14</th>\n",
       "      <td>OWT 7</td>\n",
       "      <td>OWT 3</td>\n",
       "    </tr>\n",
       "    <tr>\n",
       "      <th>16</th>\n",
       "      <td>OWT 7</td>\n",
       "      <td>OWT 7</td>\n",
       "    </tr>\n",
       "    <tr>\n",
       "      <th>17</th>\n",
       "      <td>OWT 3</td>\n",
       "      <td>OWT 7</td>\n",
       "    </tr>\n",
       "    <tr>\n",
       "      <th>18</th>\n",
       "      <td>OWT 3</td>\n",
       "      <td>OWT 7</td>\n",
       "    </tr>\n",
       "    <tr>\n",
       "      <th>19</th>\n",
       "      <td>OWT 3</td>\n",
       "      <td>OWT 3</td>\n",
       "    </tr>\n",
       "    <tr>\n",
       "      <th>20</th>\n",
       "      <td>OWT 7</td>\n",
       "      <td>OWT 8</td>\n",
       "    </tr>\n",
       "    <tr>\n",
       "      <th>151</th>\n",
       "      <td>OWT 4</td>\n",
       "      <td>OWT 4</td>\n",
       "    </tr>\n",
       "    <tr>\n",
       "      <th>152</th>\n",
       "      <td>OWT 4</td>\n",
       "      <td>OWT 4</td>\n",
       "    </tr>\n",
       "    <tr>\n",
       "      <th>153</th>\n",
       "      <td>OWT 4</td>\n",
       "      <td>OWT 4</td>\n",
       "    </tr>\n",
       "    <tr>\n",
       "      <th>154</th>\n",
       "      <td>OWT 1</td>\n",
       "      <td>OWT 4</td>\n",
       "    </tr>\n",
       "    <tr>\n",
       "      <th>155</th>\n",
       "      <td>OWT 4</td>\n",
       "      <td>OWT 4</td>\n",
       "    </tr>\n",
       "  </tbody>\n",
       "</table>\n",
       "</div>"
      ],
      "text/plain": [
       "    msi_predicted   OWTs\n",
       "id                      \n",
       "6           OWT 3  OWT 3\n",
       "7           OWT 3  OWT 3\n",
       "14          OWT 7  OWT 3\n",
       "16          OWT 7  OWT 7\n",
       "17          OWT 3  OWT 7\n",
       "18          OWT 3  OWT 7\n",
       "19          OWT 3  OWT 3\n",
       "20          OWT 7  OWT 8\n",
       "151         OWT 4  OWT 4\n",
       "152         OWT 4  OWT 4\n",
       "153         OWT 4  OWT 4\n",
       "154         OWT 1  OWT 4\n",
       "155         OWT 4  OWT 4"
      ]
     },
     "execution_count": 23,
     "metadata": {},
     "output_type": "execute_result"
    }
   ],
   "source": [
    "insitu_sat_msi_evaluation"
   ]
  },
  {
   "cell_type": "markdown",
   "metadata": {},
   "source": [
    "## 6.2 In situ data with noise added"
   ]
  },
  {
   "cell_type": "code",
   "execution_count": 25,
   "metadata": {},
   "outputs": [],
   "source": [
    "# library used\n",
    "import copy as cp\n",
    "from numpy.random import normal\n",
    "from sklearn.metrics import balanced_accuracy_score\n",
    "\n",
    "# dictionaries for saving the accuracy results\n",
    "msi_ba_dic = {}\n",
    "\n",
    "for k in range(1,1000):\n",
    "\n",
    "    # define the test ids\n",
    "    test = test_ids\n",
    "\n",
    "    # defines the true values of the test dataset\n",
    "    true = owts.loc[test.values,:]\n",
    "\n",
    "    # add noise to bands\n",
    "    msi_noise = cp.copy(msi)\n",
    "    msi_noise[['B2']] = msi_noise[['B2']].applymap(lambda x: x*normal(1+mean_bias['B2'], std_bias['B2']))\n",
    "    msi_noise[['B3']] = msi_noise[['B3']].applymap(lambda x: x*normal(1+mean_bias['B3'], std_bias['B3']))\n",
    "    msi_noise[['B4']] = msi_noise[['B4']].applymap(lambda x: x*normal(1+mean_bias['B4'], std_bias['B4']))\n",
    "    msi_noise[['B5']] = msi_noise[['B5']].applymap(lambda x: x*normal(1+mean_bias['B5'], std_bias['B5']))\n",
    "    msi_noise[['B6']] = msi_noise[['B6']].applymap(lambda x: x*normal(1+mean_bias['B6'], std_bias['B6']))\n",
    "\n",
    "    # chooses the algorithm input\n",
    "    msi_norm = msi_noise.divide(msi.sum(axis=1), axis='rows')\n",
    "    msi_b3 = msi_noise[['B3']]\n",
    "\n",
    "    # predict the OWTs in the test dataset (shape)\n",
    "    msi_svmc_predicted = msi_svmc_shape.predict(msi_norm.loc[test,:].values)\n",
    "    msi_svmc_predicted = pd.DataFrame(msi_svmc_predicted,\n",
    "                                      index=test,\n",
    "                                      columns=['msi_predicted'])\n",
    "\n",
    "    # predict the OWTs in the test dataset (OWTs 7, 8, and 9)\n",
    "    msi_owt678_predicted_id = msi_svmc_predicted[msi_svmc_predicted['msi_predicted'] == 'OWT 678'].index\n",
    "    msi_svmc_predicted_678 = msi_svmc_678.predict(msi_b3.loc[msi_owt678_predicted_id,:].values)\n",
    "    msi_svmc_predicted_678 = pd.DataFrame(msi_svmc_predicted_678,\n",
    "                                          index=msi_owt678_predicted_id,\n",
    "                                          columns=['msi_predicted'])\n",
    "\n",
    "    # concatenate all predicted OWTs\n",
    "    msi_svmc_predicted.update(msi_svmc_predicted_678)\n",
    "\n",
    "    # creates an evaluation dataset, concatenate predicted OWTs and the true OWTs\n",
    "    msi_evaluation = msi_svmc_predicted.join(true)\n",
    "\n",
    "    # computes balanced accuracy, precision, and recall\n",
    "    msi_ba = balanced_accuracy_score(msi_evaluation['OWTs'],\n",
    "                                     msi_evaluation['msi_predicted'])\n",
    "\n",
    "    # saves the statistical results\n",
    "    msi_ba_dic[k] = [k, msi_ba] \n",
    "\n",
    "# save results in dataframes\n",
    "ba_noise = pd.DataFrame(msi_ba_dic.values(), columns=[ 'interaction', 'ba']).round(2)"
   ]
  },
  {
   "cell_type": "code",
   "execution_count": 26,
   "metadata": {},
   "outputs": [
    {
     "name": "stdout",
     "output_type": "stream",
     "text": [
      "ba mean:  0.78\n"
     ]
    }
   ],
   "source": [
    "print('ba mean: ', ba_noise.mean()['ba'].round(2))"
   ]
  },
  {
   "cell_type": "code",
   "execution_count": 27,
   "metadata": {},
   "outputs": [
    {
     "name": "stdout",
     "output_type": "stream",
     "text": [
      "ba std:  0.04\n"
     ]
    }
   ],
   "source": [
    "print('ba std: ', ba_noise.std()['ba'].round(2))"
   ]
  },
  {
   "cell_type": "code",
   "execution_count": null,
   "metadata": {},
   "outputs": [],
   "source": []
  }
 ],
 "metadata": {
  "hide_input": true,
  "kernelspec": {
   "display_name": "Python 3",
   "language": "python",
   "name": "python3"
  },
  "language_info": {
   "codemirror_mode": {
    "name": "ipython",
    "version": 3
   },
   "file_extension": ".py",
   "mimetype": "text/x-python",
   "name": "python",
   "nbconvert_exporter": "python",
   "pygments_lexer": "ipython3",
   "version": "3.7.6"
  },
  "toc": {
   "base_numbering": 1,
   "nav_menu": {},
   "number_sections": false,
   "sideBar": true,
   "skip_h1_title": false,
   "title_cell": "Table of Contents",
   "title_sidebar": "Contents",
   "toc_cell": true,
   "toc_position": {
    "height": "calc(100% - 180px)",
    "left": "10px",
    "top": "150px",
    "width": "165px"
   },
   "toc_section_display": true,
   "toc_window_display": false
  },
  "varInspector": {
   "cols": {
    "lenName": 16,
    "lenType": 16,
    "lenVar": 40
   },
   "kernels_config": {
    "python": {
     "delete_cmd_postfix": "",
     "delete_cmd_prefix": "del ",
     "library": "var_list.py",
     "varRefreshCmd": "print(var_dic_list())"
    },
    "r": {
     "delete_cmd_postfix": ") ",
     "delete_cmd_prefix": "rm(",
     "library": "var_list.r",
     "varRefreshCmd": "cat(var_dic_list()) "
    }
   },
   "types_to_exclude": [
    "module",
    "function",
    "builtin_function_or_method",
    "instance",
    "_Feature"
   ],
   "window_display": false
  }
 },
 "nbformat": 4,
 "nbformat_minor": 4
}
