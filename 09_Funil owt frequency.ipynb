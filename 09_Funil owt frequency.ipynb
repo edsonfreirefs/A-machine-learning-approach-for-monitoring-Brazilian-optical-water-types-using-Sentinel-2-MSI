{
 "cells": [
  {
   "cell_type": "markdown",
   "metadata": {},
   "source": [
    "# 1 introduction\n",
    "<br>\n",
    "This notebook compute the OWT areas in a time series in the Curuai lake"
   ]
  },
  {
   "cell_type": "markdown",
   "metadata": {},
   "source": [
    "# 2 Functions"
   ]
  },
  {
   "cell_type": "code",
   "execution_count": 1,
   "metadata": {},
   "outputs": [],
   "source": [
    "# library used\n",
    "from osgeo import gdal\n",
    "from osgeo.gdalconst import *\n",
    "import os\n",
    "def image_to_arrays(image):\n",
    "    '''\n",
    "    This function read a single band image as numpy array\n",
    "    -----------------------\n",
    "    image(str): image path\n",
    "    -----------------------\n",
    "    return: the five bands necessary for the OWT classification.\n",
    "\n",
    "    '''\n",
    "    \n",
    "    # abre a imagem\n",
    "    image =  gdal.Open(image, GA_ReadOnly)\n",
    "    \n",
    "    # abre as bandas\n",
    "    array = image.ReadAsArray()\n",
    "\n",
    "    return array\n",
    "\n",
    "def array_to_image(img, i, path, geotransform, projection):\n",
    "    '''\n",
    "    This function convert a array to tiff\n",
    "    -----------------------------\n",
    "    img (np.array): an image array.\n",
    "    i (str): image name.\n",
    "    path: path for saving the tiff image.\n",
    "    geotransform: Geotransform for saving the image (e.g.: image.GetGeoTransform()).\n",
    "    projection: Projection for saving the image (e.g.: image.GetProjection())\n",
    "    '''   \n",
    "    # save results\n",
    "    # set image dimensions\n",
    "    image_size = img.shape\n",
    "    nx = image_size[0]\n",
    "    ny = image_size[1]\n",
    "\n",
    "    # create the classified raster file\n",
    "    dst_ds = gdal.GetDriverByName('GTiff').Create(path+i, ny, nx, 1, gdal.GDT_Int16)\n",
    "\n",
    "    dst_ds.SetGeoTransform(geotransform)    # specify coords\n",
    "    dst_ds.SetProjection(projection) # export coords to file       \n",
    "    dst_ds.GetRasterBand(1).WriteArray(img)   # write r-band to the raster\n",
    "    dst_ds.GetRasterBand(1).SetNoDataValue(0) \n",
    "    dst_ds.FlushCache()                     # write to disk\n"
   ]
  },
  {
   "cell_type": "markdown",
   "metadata": {},
   "source": [
    "# 3 Calculate OWT frequency"
   ]
  },
  {
   "cell_type": "code",
   "execution_count": 2,
   "metadata": {},
   "outputs": [],
   "source": [
    "# library used\n",
    "import glob\n",
    "from rasterstats import zonal_stats\n",
    "import datetime as dt\n",
    "import pandas as pd\n",
    "\n",
    "img_list = glob.glob(\"00_Database/03_Images/03_Funil/l3_owts/*.tif\")\n",
    "\n",
    "# extract values\n",
    "img_arrays = {}\n",
    "for img in img_list:\n",
    "    \n",
    "    \n",
    "    date = img.split('/')[-1].split('.')[0].split('_')[1][0:8]\n",
    "    year = int(date[0:4])\n",
    "    month = int(date[4:6])\n",
    "    day = int(date[6:8])\n",
    "    date = dt.date(year, month, day)\n",
    "    img_array = image_to_arrays(img)\n",
    "    img_arrays[date] = img_array"
   ]
  },
  {
   "cell_type": "code",
   "execution_count": 3,
   "metadata": {},
   "outputs": [],
   "source": [
    "# library used\n",
    "import numpy as np\n",
    "\n",
    "# compute OWT frequency\n",
    "owt_freq = {}\n",
    "for x in range(0,9):\n",
    "    \n",
    "    owt_freq[x] = np.zeros((5490,5490))\n",
    "\n",
    "\n",
    "    for y in img_arrays.keys():\n",
    "    \n",
    "        img_array = img_arrays[y]==x\n",
    "        owt_freq[x] = owt_freq[x]+img_array\n",
    "        \n",
    "    owt_freq[x] = (owt_freq[x]/len(img_arrays.keys()))*100\n",
    "    owt_freq[x] = np.nan_to_num(owt_freq[x])"
   ]
  },
  {
   "cell_type": "markdown",
   "metadata": {},
   "source": [
    "# 4 Saves the frequency images"
   ]
  },
  {
   "cell_type": "code",
   "execution_count": 4,
   "metadata": {},
   "outputs": [],
   "source": [
    "# extract projection data\n",
    "img_ref = gdal.Open(img)\n",
    "geotransform = img_ref.GetGeoTransform()\n",
    "proj = img_ref.GetProjection()\n",
    "\n",
    "# saves all images\n",
    "for x in owt_freq.keys():\n",
    "    \n",
    "    array_to_image(owt_freq[x],\n",
    "                   'OWT_'+str(x)+'_frequency.tif',\n",
    "                   '00_Database/03_Images/03_Funil/l3_owts_frequency/',\n",
    "                   geotransform,\n",
    "                   proj)"
   ]
  },
  {
   "cell_type": "code",
   "execution_count": null,
   "metadata": {},
   "outputs": [],
   "source": []
  }
 ],
 "metadata": {
  "kernelspec": {
   "display_name": "Python 3",
   "language": "python",
   "name": "python3"
  },
  "language_info": {
   "codemirror_mode": {
    "name": "ipython",
    "version": 3
   },
   "file_extension": ".py",
   "mimetype": "text/x-python",
   "name": "python",
   "nbconvert_exporter": "python",
   "pygments_lexer": "ipython3",
   "version": "3.7.6"
  },
  "toc": {
   "base_numbering": 1,
   "nav_menu": {},
   "number_sections": false,
   "sideBar": true,
   "skip_h1_title": false,
   "title_cell": "Table of Contents",
   "title_sidebar": "Contents",
   "toc_cell": false,
   "toc_position": {},
   "toc_section_display": true,
   "toc_window_display": true
  }
 },
 "nbformat": 4,
 "nbformat_minor": 4
}
